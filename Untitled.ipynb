{
 "cells": [
  {
   "cell_type": "code",
   "execution_count": 1,
   "id": "6a02b6be",
   "metadata": {},
   "outputs": [
    {
     "name": "stdout",
     "output_type": "stream",
     "text": [
      "Requirement already satisfied: nltk in c:\\users\\blubirch\\anaconda3\\lib\\site-packages (3.8.1)\n",
      "Requirement already satisfied: click in c:\\users\\blubirch\\anaconda3\\lib\\site-packages (from nltk) (8.0.4)\n",
      "Requirement already satisfied: joblib in c:\\users\\blubirch\\anaconda3\\lib\\site-packages (from nltk) (1.2.0)\n",
      "Requirement already satisfied: regex>=2021.8.3 in c:\\users\\blubirch\\anaconda3\\lib\\site-packages (from nltk) (2022.7.9)\n",
      "Requirement already satisfied: tqdm in c:\\users\\blubirch\\anaconda3\\lib\\site-packages (from nltk) (4.65.0)\n",
      "Requirement already satisfied: colorama in c:\\users\\blubirch\\anaconda3\\lib\\site-packages (from click->nltk) (0.4.6)\n"
     ]
    }
   ],
   "source": [
    "!pip install nltk"
   ]
  },
  {
   "cell_type": "code",
   "execution_count": 2,
   "id": "5e78c027",
   "metadata": {},
   "outputs": [],
   "source": [
    "import numpy as np\n",
    "import pandas as pd"
   ]
  },
  {
   "cell_type": "code",
   "execution_count": 3,
   "id": "0169434c",
   "metadata": {},
   "outputs": [],
   "source": [
    "data = pd.read_csv(\"jobs.csv\")"
   ]
  },
  {
   "cell_type": "code",
   "execution_count": 4,
   "id": "ae1e3efb",
   "metadata": {},
   "outputs": [
    {
     "data": {
      "text/html": [
       "<div>\n",
       "<style scoped>\n",
       "    .dataframe tbody tr th:only-of-type {\n",
       "        vertical-align: middle;\n",
       "    }\n",
       "\n",
       "    .dataframe tbody tr th {\n",
       "        vertical-align: top;\n",
       "    }\n",
       "\n",
       "    .dataframe thead th {\n",
       "        text-align: right;\n",
       "    }\n",
       "</style>\n",
       "<table border=\"1\" class=\"dataframe\">\n",
       "  <thead>\n",
       "    <tr style=\"text-align: right;\">\n",
       "      <th></th>\n",
       "      <th>Unnamed: 0</th>\n",
       "      <th>Job Salary</th>\n",
       "      <th>Job Experience Required</th>\n",
       "      <th>Key Skills</th>\n",
       "      <th>Role Category</th>\n",
       "      <th>Functional Area</th>\n",
       "      <th>Industry</th>\n",
       "      <th>Job Title</th>\n",
       "    </tr>\n",
       "  </thead>\n",
       "  <tbody>\n",
       "    <tr>\n",
       "      <th>0</th>\n",
       "      <td>0</td>\n",
       "      <td>Not Disclosed by Recruiter</td>\n",
       "      <td>5 - 10 yrs</td>\n",
       "      <td>Media Planning| Digital Media</td>\n",
       "      <td>Advertising</td>\n",
       "      <td>Marketing , Advertising , MR , PR , Media Plan...</td>\n",
       "      <td>Advertising, PR, MR, Event Management</td>\n",
       "      <td>Media Planning Executive/Manager</td>\n",
       "    </tr>\n",
       "    <tr>\n",
       "      <th>1</th>\n",
       "      <td>1</td>\n",
       "      <td>Not Disclosed by Recruiter</td>\n",
       "      <td>2 - 5 yrs</td>\n",
       "      <td>pre sales| closing| software knowledge| clien...</td>\n",
       "      <td>Retail Sales</td>\n",
       "      <td>Sales , Retail , Business Development</td>\n",
       "      <td>IT-Software, Software Services</td>\n",
       "      <td>Sales Executive/Officer</td>\n",
       "    </tr>\n",
       "    <tr>\n",
       "      <th>2</th>\n",
       "      <td>2</td>\n",
       "      <td>Not Disclosed by Recruiter</td>\n",
       "      <td>0 - 1 yrs</td>\n",
       "      <td>Computer science| Fabrication| Quality check|...</td>\n",
       "      <td>R&amp;D</td>\n",
       "      <td>Engineering Design , R&amp;D</td>\n",
       "      <td>Recruitment, Staffing</td>\n",
       "      <td>R&amp;D Executive</td>\n",
       "    </tr>\n",
       "    <tr>\n",
       "      <th>3</th>\n",
       "      <td>3</td>\n",
       "      <td>2,00,000 - 4,00,000 PA.</td>\n",
       "      <td>0 - 5 yrs</td>\n",
       "      <td>Technical Support</td>\n",
       "      <td>Admin/Maintenance/Security/Datawarehousing</td>\n",
       "      <td>IT Software - Application Programming , Mainte...</td>\n",
       "      <td>IT-Software, Software Services</td>\n",
       "      <td>Technical Support Engineer</td>\n",
       "    </tr>\n",
       "    <tr>\n",
       "      <th>4</th>\n",
       "      <td>4</td>\n",
       "      <td>Not Disclosed by Recruiter</td>\n",
       "      <td>2 - 5 yrs</td>\n",
       "      <td>manual testing| test engineering| test cases|...</td>\n",
       "      <td>Programming &amp; Design</td>\n",
       "      <td>IT Software - QA &amp; Testing</td>\n",
       "      <td>IT-Software, Software Services</td>\n",
       "      <td>Testing Engineer</td>\n",
       "    </tr>\n",
       "  </tbody>\n",
       "</table>\n",
       "</div>"
      ],
      "text/plain": [
       "   Unnamed: 0                    Job Salary Job Experience Required  \\\n",
       "0           0   Not Disclosed by Recruiter               5 - 10 yrs   \n",
       "1           1   Not Disclosed by Recruiter                2 - 5 yrs   \n",
       "2           2   Not Disclosed by Recruiter                0 - 1 yrs   \n",
       "3           3       2,00,000 - 4,00,000 PA.               0 - 5 yrs   \n",
       "4           4   Not Disclosed by Recruiter                2 - 5 yrs   \n",
       "\n",
       "                                          Key Skills  \\\n",
       "0                      Media Planning| Digital Media   \n",
       "1   pre sales| closing| software knowledge| clien...   \n",
       "2   Computer science| Fabrication| Quality check|...   \n",
       "3                                  Technical Support   \n",
       "4   manual testing| test engineering| test cases|...   \n",
       "\n",
       "                                Role Category  \\\n",
       "0                                 Advertising   \n",
       "1                                Retail Sales   \n",
       "2                                         R&D   \n",
       "3  Admin/Maintenance/Security/Datawarehousing   \n",
       "4                        Programming & Design   \n",
       "\n",
       "                                     Functional Area  \\\n",
       "0  Marketing , Advertising , MR , PR , Media Plan...   \n",
       "1              Sales , Retail , Business Development   \n",
       "2                           Engineering Design , R&D   \n",
       "3  IT Software - Application Programming , Mainte...   \n",
       "4                         IT Software - QA & Testing   \n",
       "\n",
       "                                Industry                         Job Title  \n",
       "0  Advertising, PR, MR, Event Management  Media Planning Executive/Manager  \n",
       "1         IT-Software, Software Services           Sales Executive/Officer  \n",
       "2                  Recruitment, Staffing                     R&D Executive  \n",
       "3         IT-Software, Software Services        Technical Support Engineer  \n",
       "4         IT-Software, Software Services                  Testing Engineer  "
      ]
     },
     "execution_count": 4,
     "metadata": {},
     "output_type": "execute_result"
    }
   ],
   "source": [
    "data.head()"
   ]
  },
  {
   "cell_type": "code",
   "execution_count": 5,
   "id": "33991c8c",
   "metadata": {},
   "outputs": [
    {
     "data": {
      "text/plain": [
       "(27010, 8)"
      ]
     },
     "execution_count": 5,
     "metadata": {},
     "output_type": "execute_result"
    }
   ],
   "source": [
    "data.shape"
   ]
  },
  {
   "cell_type": "code",
   "execution_count": 6,
   "id": "177da551",
   "metadata": {},
   "outputs": [
    {
     "data": {
      "text/plain": [
       "Index(['Unnamed: 0', 'Job Salary', 'Job Experience Required', 'Key Skills',\n",
       "       'Role Category', 'Functional Area', 'Industry', 'Job Title'],\n",
       "      dtype='object')"
      ]
     },
     "execution_count": 6,
     "metadata": {},
     "output_type": "execute_result"
    }
   ],
   "source": [
    "data.columns"
   ]
  },
  {
   "cell_type": "code",
   "execution_count": 7,
   "id": "2f6f790c",
   "metadata": {},
   "outputs": [
    {
     "data": {
      "text/html": [
       "<div>\n",
       "<style scoped>\n",
       "    .dataframe tbody tr th:only-of-type {\n",
       "        vertical-align: middle;\n",
       "    }\n",
       "\n",
       "    .dataframe tbody tr th {\n",
       "        vertical-align: top;\n",
       "    }\n",
       "\n",
       "    .dataframe thead th {\n",
       "        text-align: right;\n",
       "    }\n",
       "</style>\n",
       "<table border=\"1\" class=\"dataframe\">\n",
       "  <thead>\n",
       "    <tr style=\"text-align: right;\">\n",
       "      <th></th>\n",
       "      <th>Key Skills</th>\n",
       "      <th>Job Title</th>\n",
       "    </tr>\n",
       "  </thead>\n",
       "  <tbody>\n",
       "    <tr>\n",
       "      <th>0</th>\n",
       "      <td>Media Planning| Digital Media</td>\n",
       "      <td>Media Planning Executive/Manager</td>\n",
       "    </tr>\n",
       "    <tr>\n",
       "      <th>1</th>\n",
       "      <td>pre sales| closing| software knowledge| clien...</td>\n",
       "      <td>Sales Executive/Officer</td>\n",
       "    </tr>\n",
       "    <tr>\n",
       "      <th>2</th>\n",
       "      <td>Computer science| Fabrication| Quality check|...</td>\n",
       "      <td>R&amp;D Executive</td>\n",
       "    </tr>\n",
       "    <tr>\n",
       "      <th>3</th>\n",
       "      <td>Technical Support</td>\n",
       "      <td>Technical Support Engineer</td>\n",
       "    </tr>\n",
       "    <tr>\n",
       "      <th>4</th>\n",
       "      <td>manual testing| test engineering| test cases|...</td>\n",
       "      <td>Testing Engineer</td>\n",
       "    </tr>\n",
       "    <tr>\n",
       "      <th>...</th>\n",
       "      <td>...</td>\n",
       "      <td>...</td>\n",
       "    </tr>\n",
       "    <tr>\n",
       "      <th>27005</th>\n",
       "      <td>Graphics| C++| USB| Project management| SOC| ...</td>\n",
       "      <td>Software Developer</td>\n",
       "    </tr>\n",
       "    <tr>\n",
       "      <th>27006</th>\n",
       "      <td>Service delivery| LMS| CRE| Integration servi...</td>\n",
       "      <td>Operations Manager</td>\n",
       "    </tr>\n",
       "    <tr>\n",
       "      <th>27007</th>\n",
       "      <td>Counselor| Mentor| Trainer| Advisor| Teaching</td>\n",
       "      <td>Lecturer/Professor</td>\n",
       "    </tr>\n",
       "    <tr>\n",
       "      <th>27008</th>\n",
       "      <td>Security Analysis| Software Development Life ...</td>\n",
       "      <td>Software Developer</td>\n",
       "    </tr>\n",
       "    <tr>\n",
       "      <th>27009</th>\n",
       "      <td>Press release| Public relations| Publishing| ...</td>\n",
       "      <td>Search Engine Optimisation /SEO Specialist</td>\n",
       "    </tr>\n",
       "  </tbody>\n",
       "</table>\n",
       "<p>27010 rows × 2 columns</p>\n",
       "</div>"
      ],
      "text/plain": [
       "                                              Key Skills  \\\n",
       "0                          Media Planning| Digital Media   \n",
       "1       pre sales| closing| software knowledge| clien...   \n",
       "2       Computer science| Fabrication| Quality check|...   \n",
       "3                                      Technical Support   \n",
       "4       manual testing| test engineering| test cases|...   \n",
       "...                                                  ...   \n",
       "27005   Graphics| C++| USB| Project management| SOC| ...   \n",
       "27006   Service delivery| LMS| CRE| Integration servi...   \n",
       "27007      Counselor| Mentor| Trainer| Advisor| Teaching   \n",
       "27008   Security Analysis| Software Development Life ...   \n",
       "27009   Press release| Public relations| Publishing| ...   \n",
       "\n",
       "                                        Job Title  \n",
       "0                Media Planning Executive/Manager  \n",
       "1                         Sales Executive/Officer  \n",
       "2                                   R&D Executive  \n",
       "3                      Technical Support Engineer  \n",
       "4                                Testing Engineer  \n",
       "...                                           ...  \n",
       "27005                          Software Developer  \n",
       "27006                          Operations Manager  \n",
       "27007                          Lecturer/Professor  \n",
       "27008                          Software Developer  \n",
       "27009  Search Engine Optimisation /SEO Specialist  \n",
       "\n",
       "[27010 rows x 2 columns]"
      ]
     },
     "execution_count": 7,
     "metadata": {},
     "output_type": "execute_result"
    }
   ],
   "source": [
    "data[[\"Key Skills\", \"Job Title\"]]"
   ]
  },
  {
   "cell_type": "code",
   "execution_count": 8,
   "id": "5568eb44",
   "metadata": {},
   "outputs": [
    {
     "data": {
      "text/plain": [
       "0                        Media Planning| Digital Media\n",
       "1     pre sales| closing| software knowledge| clien...\n",
       "2     Computer science| Fabrication| Quality check|...\n",
       "3                                    Technical Support\n",
       "4     manual testing| test engineering| test cases|...\n",
       "5     adobe experience manager| digital| digital ma...\n",
       "6     channel partners| real estate| negotiation| p...\n",
       "7     TFS| Azure| Git| VSTS| Docker| DynaTrace| Spl...\n",
       "8                                                  Bde\n",
       "9     technical support| support services| applicat...\n",
       "Name: Key Skills, dtype: object"
      ]
     },
     "execution_count": 8,
     "metadata": {},
     "output_type": "execute_result"
    }
   ],
   "source": [
    "data[\"Key Skills\"][:10]"
   ]
  },
  {
   "cell_type": "code",
   "execution_count": 9,
   "id": "d3716920",
   "metadata": {},
   "outputs": [
    {
     "data": {
      "text/plain": [
       "array([' Media Planning| Digital Media',\n",
       "       ' pre sales| closing| software knowledge| clients| requirements| negotiating| client| online bidding| good communication| technology',\n",
       "       ' Computer science| Fabrication| Quality check| Intellectual property| Electronics| Support services| Research| Management| Human resource management| Research Executive',\n",
       "       ...,\n",
       "       ' Service delivery| LMS| CRE| Integration services| Content development| Client management| CRM',\n",
       "       ' Security Analysis| Software Development Life Cycle| Security Testing| Cyber Security| Application Security| New Projects| Code Review| Project Development| Software Solutions| Security Services',\n",
       "       ' Press release| Public relations| Publishing| Web technologies| SEO writing| Journalism| MS Word| Syndication| Business Executive| Search engine optimization'],\n",
       "      dtype=object)"
      ]
     },
     "execution_count": 9,
     "metadata": {},
     "output_type": "execute_result"
    }
   ],
   "source": [
    "data[\"Key Skills\"].unique()"
   ]
  },
  {
   "cell_type": "code",
   "execution_count": 10,
   "id": "3ba1dcab",
   "metadata": {},
   "outputs": [
    {
     "data": {
      "text/plain": [
       "25292"
      ]
     },
     "execution_count": 10,
     "metadata": {},
     "output_type": "execute_result"
    }
   ],
   "source": [
    "data[\"Key Skills\"].nunique()"
   ]
  },
  {
   "cell_type": "code",
   "execution_count": 11,
   "id": "2b91b1de",
   "metadata": {},
   "outputs": [
    {
     "data": {
      "text/plain": [
       "0           Media Planning Executive/Manager\n",
       "1                    Sales Executive/Officer\n",
       "2                              R&D Executive\n",
       "3                 Technical Support Engineer\n",
       "4                           Testing Engineer\n",
       "5                             System Analyst\n",
       "6                    Sales Executive/Officer\n",
       "7                        Technical Architect\n",
       "8                    Sales Executive/Officer\n",
       "9    Associate/Senior Associate -(Technical)\n",
       "Name: Job Title, dtype: object"
      ]
     },
     "execution_count": 11,
     "metadata": {},
     "output_type": "execute_result"
    }
   ],
   "source": [
    "data[\"Job Title\"][:10]"
   ]
  },
  {
   "cell_type": "code",
   "execution_count": 12,
   "id": "775229f0",
   "metadata": {},
   "outputs": [
    {
     "data": {
      "text/plain": [
       "array(['Media Planning Executive/Manager', 'Sales Executive/Officer',\n",
       "       'R&D Executive', 'Technical Support Engineer', 'Testing Engineer',\n",
       "       'System Analyst', 'Technical Architect',\n",
       "       'Associate/Senior Associate -(Technical)',\n",
       "       'Corporate Planning/Strategy Manager', 'Webmaster',\n",
       "       'Process Flow Analyst', 'Software Developer',\n",
       "       'Social Media Marketing Manager', 'Senior Design Engineer',\n",
       "       'Accounts Manager', 'Sales Officer',\n",
       "       'Sales/Business Development Manager',\n",
       "       'Quality Assurance/Quality Control Executive',\n",
       "       'Graphic/Web Designer', 'Area Sales Manager',\n",
       "       'System Administrator', 'Project Manager-IT/Software',\n",
       "       'Project Lead', 'Logistics Executive',\n",
       "       'Accounts Executive/Accountant',\n",
       "       'Associate/Senior Associate -(NonTechnical)',\n",
       "       'Technical Support Manager', 'Regional Manager',\n",
       "       'Head / VP/ GM/ National Manager After Sales',\n",
       "       'Team Leader -(NonTechnical)', 'Content Developer', 'DBA',\n",
       "       'HR Executive', 'Head/VP/GM/National Manager -Sales',\n",
       "       'Centre Head / Branch Head / Club Manager', 'Project Architect',\n",
       "       'Front Office/Guest Relations Executive/Manager',\n",
       "       'Design Engineer', 'Technical Writer', 'Engineering Manager',\n",
       "       'Training Manager', 'Graphic Designer',\n",
       "       'Client Servicing Executive', 'Sales Executive / Officer',\n",
       "       'Recruitment Executive', 'Sales Coordinator',\n",
       "       'Solution Architect / Enterprise Architect',\n",
       "       'Workman/Foreman/Technician', 'Design Engineer/Manager',\n",
       "       'Technical Lead/Project Lead', 'Analytics Manager', 'Trainee',\n",
       "       'Search Engine Optimisation /SEO Specialist', 'Financial Analyst',\n",
       "       'PPC /Pay Per Click Specialist', 'Medical Representative',\n",
       "       'Project Manager-Production/Manufacturing/Maintenance',\n",
       "       'Public Relations & Media Relations Manager', 'Fresher', 'Other',\n",
       "       'Lecturer/Professor', 'Documentation/Medical Writing',\n",
       "       'IT/Networking-Manager', 'Sales Trainer', 'Trainer',\n",
       "       'Head/VP/GM-Technology(IT)/CTO', 'Business Analyst',\n",
       "       'Restaurant Manager', 'Web Designer', 'Head/VP/GM-Operations',\n",
       "       'Research Scientist', 'Merchandiser', 'Team Lead/Technical Lead',\n",
       "       'Executive/ Sr Executive - Administration',\n",
       "       'DaycareTeacher / Incharge / Attendant', 'Sales / BD Manager',\n",
       "       'Client Servicing/Key Account Manager', 'Logistics Manager',\n",
       "       'Head/VP/GM-Finance/Audit', 'Outside Consultant',\n",
       "       'Purchase Executive', 'Purchase/Vendor Development Manager',\n",
       "       'Telecalling/Telemarketing Executive', 'Cashier',\n",
       "       'Production Manager', 'Visualiser', 'Creative Director',\n",
       "       'Architect', 'Voice & Accent Trainer', 'Finance/Budgeting Manager',\n",
       "       'Outside Technical Consultant', 'CSR Manager', 'Surgeon',\n",
       "       'Suguna Group was founded in the year 1984 with the inception of Suguna Foods in poultry sector by first generation entrepreneurs. Suguna is a USD 1.3 billion (INR 9,000 cr) group and leader in Indian protein food/animal farming industry. With an employee footprint of more than 8500, the group is in to poultry, dairy, processed protein food, animal nutrition, healthcare & biologicals. Group companies are Suguna Foods, Suguna Dairy, Globion, Aminovit Srilanka, Suguna Bangladesh and Kenya. Suguna Foods is the largest poultry enterprise in India and it ranks among the top 10 worldwide. The fully integrated operations cover broiler and layer farming, hatcheries, feed mills, processing plants, vaccines and exports. Suguna markets live broiler chicken, value added eggs, ready-to-eat and ready-to-cook chicken products. With the intent to provide consumers with fresh, clean and hygienic packed chicken, Suguna has set up a chain of modern retail outlets in the name of Ã¢â‚¬ËœDaily FresshÃ¢â‚¬â„¢. Suguna Foods pioneered contract farming in poultry industry, and now has presence in 21 states in India. Suguna as a brand is known for its quality products which has been well accepted by the consumers. Suguna Group always believes in energising rural India and providing nutritional security to India and is proud to associate with the mission of improving livelihood of 38,000 farmers',\n",
       "       'Proof Reader', 'Nurse', 'Direct Marketing Executive',\n",
       "       'Head/VP/GM-CFO/Financial Controller', 'Branch Manager',\n",
       "       'Service/Maintenance Engineer',\n",
       "       'Head/VP/GM-Production/Manufacturing/Maintenance', 'Counter Sales',\n",
       "       'Physics Teacher', 'Quality Assurance/Quality Control Manager',\n",
       "       'Pharmacist/Chemist/Bio Chemist', 'Technical / Process Trainer',\n",
       "       'Customer Support Engineer/Technician', 'Subject Matter Expert',\n",
       "       'Branch Manager/Regional Manager', 'Product/Brand Manager',\n",
       "       'Functional Outside Consultant', 'Safety Officer/Manager',\n",
       "       'Equipment installation, calibration, validation and maintenance. Maintain the master list for preventive maintenance and calibration of GLP AND NONGLP Instruments Preparing the IQ,OQ,PQ Documentation for new equipment during installation Attend and rectifying the CENTRIFUGE,CO2 INCUBATOR ,HPLC, CENTRIFUGE, CELLCOUNTER, HPLC, ROTAVAPORS, INCUBATORS, WATER PURIFICATION SYSTEMS, FPLC breakdown issues Attend and rectifying the HPLC breakdown issues Coordinating with Vendors, Projects team, Validation team and end-users for installation and qualification (IQ, OQ and PQ) of all the Biologics department equipment. Zero down time maintenance of all laboratory department equipment. Maintaining stock of equipment accessories, spares and consumables as per requirement. To assist, attend and Execute Preventive Maintenance/Breakdown Maintenance for Various Biology and Analytical equipment. Attend breakdown Maintenance calls and Perform routine Preventive Maintenance for Instruments like CENTRIFUGE, CELLCOUNTER, HPLC, ROTAVAPORS, INCUBATORS, WATER PURIFICATION SYSTEMS, HEATING STIRRERS, FLASH CHROMATOGRAPHY SYSTEMS AND VARIOUS BIO-ANALYTICAL INSTRUMENTS IN JUBILANT BIOSYS. Working with Scientists to ensure smooth running of the Equi Salary: Not Disclosed by Recruiter Industry: Pharma / Biotech / Clinical Research Functional Area: Other Employment Type: Full Time, Permanent',\n",
       "       'Data Analyst', 'Tour Management Manager/Senior Manager',\n",
       "       'Maintenance Engineer',\n",
       "       'ZS pioneers in sales force and marketing analytics applying optimization techniques to sales force and marketing investment problems. We have grown significantly and are now recognized global leaders in sales and marketing consulting. A key enabler of our services is leveraging data in delivering client solutions. The data available about customers across Healthcare and multiple industries is getting richer and the problems that our customers are trying to answer continue to evolve. In our endeavor to stay ahead of curve in providing solutions to these evolving complex business problems, ZS has set up a Data Scientist track which has following major focus areas: Research the evolving datasets and newer information sources to understand the possibilities Apply advanced analytical techniques and algorithms to improve current as well as develop cutting edge offerings/solutions Deliver client impact by collaboratively implementing and broad basing these solutions Provide thought leadership by developing the ZS Point of View in the industry The Manager position is the precursor to the Associate Principal and Principal Positions, and therefore part of the ZS leadership ladder. Every Manager leads one or more Spaces, i.e. business units focused either on a specific client, or a specific expertise area. Therefore ZS Data Science Managers are responsible for strong analytical expertise, knowledge and experience of various machine learning algorithms, tools & big data technologies, leveraging this knowledge for innovation, thought leadership, stakeholder relationship management, effectively coaching and responsible for people growth and defining-running-refining their space operating models, guided closely by Principals. Managers leverage their experience to take responsibility for providing analytical solutions across projects, deliver quality work for clients and lead client and ZS-leader relationships from beginning of their tenure. Provide expertise in architecting and implementing analytical solutions for projects Manage projects and assist in managing stakeholder relationships Direct multiple projects simultaneously, honing analytical and project management skills Motivate, coach and serve as a role model for space team members Provide thought leadership and innovation within projects and across practice areas Partner with onshore colleagues to develop new business with existing and new clients Develop and implement specific frameworks for strategy and programs Contribute to ZSs capability building and knowledge creation Coach, mentor, and conduct training programs Play an active role in India office growth related initiatives (e.g. recruiting, training, etc.). Required Candidate profile Managers have 8 - 12 years work experience in industry through consulting work or within an industry leader (a combination of experience is preferred) BE/ B.Tech / BS (stats) from Tier-1 institute would be required. PhD in Computer Science (OR Statistics) / M.Tech / MS from a premier institute would be highly preferred Substantial experience in Machine Learning Knowledge of big data/ advanced analytics concepts and algorithms text mining, social listening, recommender systems, predictive modeling, etc. Knowledge of programming Java/Python/R Exposure to tools/platforms Hadoop eco system and DB systems Agile project planning and project management skills Excellent communication skills In addition, we seek individuals with the following Desire to make a business impact for our clients Leadership experience Personal initiative and strong work ethic Self-motivation and detail orientation Organization & planning skills Communication skills Salary: Not Disclosed by Recruiter Industry: Strategy / Management Consulting Firms Functional Area: Other',\n",
       "       'Head/VP/GM-Recruitment', 'Head/VP/GM-Regulatory Affairs',\n",
       "       'Factory Head', 'Head/VP/GM-HR',\n",
       "       'Housekeeping Executive/Assistant.', 'HR Manager', 'Intern',\n",
       "       'Marketing Manager', 'Pre Sales Consultant', 'Equity Manager',\n",
       "       'Telesales/Telemarketing Executive/Officer', 'Draughtsman',\n",
       "       'ERP Consultant', 'Client Relationship Manager',\n",
       "       'Technical/Process Trainer', 'HOD', 'Network Administrator',\n",
       "       'Recruitment Manager', 'Dean / Director',\n",
       "       'Manager / Sr Manager - Facility Management', 'Release Manager',\n",
       "       'Tour Mngmt Executive',\n",
       "       'Team Leader-Quality Assurance/Quality Control', 'Head/VP/GM-R&D',\n",
       "       'Transport/Distribution Manager', 'Analyst', 'Microbiologist',\n",
       "       'Broker/Trader',\n",
       "       'One of the most comprehensive portfolios of offerings on the market Sopra Steria, a European leader in digital transformation, provides one of the most comprehensive portfolios of offerings on the market, spanning consulting, systems integration, industry-specific solutions, infrastructure management and business process services. It provides end-to-end solutions to address the core business needs of large companies and organisations, helping them remain competitive and grow. Combining added value with innovative high-performance services, Sopra Steria excels in guiding its clients through their transformation projects to help them make the most of digital technology. With more than 44,000 employees in more than 20 countries, Sopra Steria generated revenue of 4.1billion in 2018.',\n",
       "       'Documentation/Shipping-Executive/Manager', 'Medical Officer',\n",
       "       'Key Account Manager', 'Assistant Manager/Manager-(NonTechnical)',\n",
       "       'Retail Store Manager', 'Chartered Accountant',\n",
       "       'Institutional Sales/Business Development Manager',\n",
       "       'Operations Manager', 'Interior Designer',\n",
       "       'Events/Promotion Executive', 'Staff Function',\n",
       "       'Management Information Systems(MIS)-Manager',\n",
       "       'Sports / Physical Education Teacher',\n",
       "       'Marketing Research Executive/Manager', 'System Security',\n",
       "       'Company Secretary', 'Analytical Chemistry Associate/Scientist',\n",
       "       'Assistant Professor', 'Product Designer', 'Curriculum Designer',\n",
       "       'Cabin Crew', 'Chef De Partis',\n",
       "       'Sales/Business Development-Manager',\n",
       "       'Product Development Manager', 'Mechanical Engineer-Telecom',\n",
       "       'Administration Services/Medical Facilities',\n",
       "       'User Experience Designer',\n",
       "       'Assistant / Associate Marketing Manager',\n",
       "       'Structural Engineer-Building',\n",
       "       'Design, plan, organize and execute the job assigned and area allotted for effective referral sales of hospital services, facilities and modern technology to doctors, consultants and clinics. Develop and stabilize good and meaningful relationship with consultants, doctors, hospitals and clinics. Forward the report weekly to the Manager and get the feedback. Act as a communication channel between doctors and hospital Salary: Not Disclosed by Recruiter Industry: Medical / Healthcare / Hospitals Functional Area: Other Employment Type: Permanent Job, Full Time',\n",
       "       'Store Keeper/Warehouse Assistant', 'Business Development Manager',\n",
       "       'Animation/Graphic Artist', 'Product Manager',\n",
       "       'General Practitioner', 'Network Planning Engineer',\n",
       "       'Secretary/PA', 'Search Engine Optimisation /SEO Lead',\n",
       "       'Database Architect/Designer', 'Apparel/Garment Designer',\n",
       "       'Post Sales Consultant', 'Electrical Engineer-Commercial',\n",
       "       'Lab Technician/Medical Technician/Lab Staff', 'Program Manager',\n",
       "       'Regional Sales Manager', 'Travel Agent',\n",
       "       'Hiring for Logistics company', 'Construction-Residential',\n",
       "       'Soft Skills Trainer', 'Audit Manager', 'Clinical Researcher',\n",
       "       'Area / Territory Manager', 'Sales Promotion Manager',\n",
       "       'Finance Executive', 'Taxation(Indirect) Manager',\n",
       "       'Warehouse Manager', 'Practice Head / Practice Manager',\n",
       "       'Anaesthetist',\n",
       "       'Cactus Communications is a leading provider of communication solutions, including academic and scientific editing, medical communications, publication support services, English-language workshops, transcription, and translation. Our company mission is to enable growth through effective communication. CACTUS offers services to two key client segments worldwide: Academia (researchers, scholarly journals and publishers, universities, and academic societies) and Pharmaceutical, biotech and medical device companies. We have our offices in the US, UK, Japan, India, South Korea, Singapore and China. Our full-time in-house staff consists of over 700 people and represents a diverse group of people from India, China, Japan, Singapore, South Korea, Taiwan, the US, UK, Germany, and Brazil. We also work with over 2500 contractors from around the world. We\\'ve been ranked #1 in IndiaÃ¢â‚¬â„¢s Great Mid-Size Workplaces Ã¢â‚¬\" 2017, a study conducted by Great Place to WorkÃ‚Â® Institute India in association with MINT, by HT Media: http://bit.ly/2uiJmUv. WeÃ¢â‚¬â„¢ve been ranked #18 in 25 Best Small & Medium Workplaces in Asia Ã¢â‚¬\" 2018, a study conducted by Great Place to WorkÃ‚Â® Institute We are proud to finish in the 2018 Top 100 Companies for Remote Jobs by FlexJobs! This is the third year for CACTUS to finish in the top 20.',\n",
       "       'Credit Officer', 'IT/Technical Content Developer',\n",
       "       'A Client of Drishti Consultants Pvt. Ltd.',\n",
       "       'Trade Finance Operations Manager',\n",
       "       'Class Teacher / Classroom coordinator',\n",
       "       'Corporate Communication Executive',\n",
       "       'Manager / Sr Manager - Administration',\n",
       "       'Domestic Private Banking-Executive/Manager',\n",
       "       'Head/VP/GM-Corporate Planning/Strategy', 'Sous Chef', 'Commis',\n",
       "       'Legal Manager', 'Deck Cadet', 'Physiotherapist',\n",
       "       'Quality Assurance & Quality Control-Executive',\n",
       "       'Credit/Control Executive', 'Operations Officer',\n",
       "       'Financial Accountant', 'Hardware Design Engineer',\n",
       "       'Interaction with the patients Explaining the procedures of dialysis and all its aspects. Preparing the Database and introduce to the respective Consultants for the procedures. Keep necessary equipments ready for starting and termination procedures of dialysis. To maintain equipments before and after the procedures. Disinfect the machine and reuse the dialyzers and the accessories. Putting indent and IP issues. Sending M.I.S. Assist doctors in all procedures ( IJ and Femoral Catheterisation) Taking inventory regularly. Keep a track of the accessories. Know all preventive maintenance program, in accordance to SOPs to maintain all my equipments in proper condition. Salary: INR 2,00,000 - 3,50,000 PA. Industry: Medical / Healthcare / Hospitals Functional Area: Other Employment Type: Permanent Job, Full Time',\n",
       "       'Taxation(Direct) Manager', 'Lobby/Duty Manager', 'Lab Assistant',\n",
       "       'PPC /Pay Per Click Lead', 'Team Leader -(Technical)',\n",
       "       'Special Education Teacher',\n",
       "       \"Company Profile Cholamandalam MS General Insurance Cholamandalam MS General Insurance Company Limited is a Joint Venture between the Murugappa Group and Mitsui Sumitomo Insurance Company Limited, Japan. Chola MS offers a wide range of insurance products that includes Accident, Engineering, Health, Liability, Marine, Motor, Property, Travel and Rural insurance for individuals and corporates. Chola MS champions a brand philosophy called T3, which stands for Trust, Transparency and Technology. It has also been consistently recognised and awarded by the Government of India, international entities and ratings agencies for its insurance service and delivery innovations. The company has 109 branches and over 9000 agents across the country. The Company achieved a Gross Written Premium (GWP) of Rs. 31,333 million registering a robust growth rate of about 28% over the previous year. The Company's market share as at March 31, 2017 was 2.76% (among general insurance companies).The growth was driven by new partnerships secured during the year and strong growth achieved in proprietary channels. Together with investment income, the Company recorded its highest ever operating profits. Profit before tax increased from Rs. 2,131 million to Rs. 2,971 million for the year ended March 31, 2017.\",\n",
       "       'Counselor', 'Construction-Construction Management',\n",
       "       'Formulation Scientist', 'Bio-Statistician',\n",
       "       'Head/VP/GM-Administration & Facilities', 'F&B Manager',\n",
       "       'Credit Analyst-Corporate Banking', 'Operations Executive',\n",
       "       'Senior Outside Consultant', 'Music Teacher',\n",
       "       'Head/VP/GM-Transitions', 'Construction-General Building',\n",
       "       'Bio/Pharma Informatics-Associate/Scientist',\n",
       "       'CRM/Customer Service Manager', 'Customer Service Executive',\n",
       "       'Material Management Executive/Manager', 'Business/EDP Analyst',\n",
       "       'Teacher/ Private Tutor', 'Electrical Engineer-Industrial',\n",
       "       'Search Engine Marketing/SEM Specialist',\n",
       "       'Clinical Research Associate/Scientist', 'Reservations Executive',\n",
       "       'Staffing Specialist/ Manpower Planning',\n",
       "       'CRM/Phone/Internet Banking Executive', 'Actuary Manager',\n",
       "       'Assistant Manager/Manager -(NonTechnical)',\n",
       "       'Head / VP / GM-Taxation', 'Radiologist', 'Industrial Engineer',\n",
       "       'Seaman', 'Trainer/Faculty', 'Collections Manager',\n",
       "       'Business Alliances Manager', 'Direct Marketing Manager',\n",
       "       'Head/VP/GM-Accounts', 'Pay Roll/Compensation Manager',\n",
       "       'English Teacher', 'Front Desk/Cashier/Billing',\n",
       "       'Commercial Manager',\n",
       "       'Head/VP/GM-Quality Assurance & Quality Control',\n",
       "       'EA to Chairman/President/VP', 'Copywriter',\n",
       "       'Civil Engineer-Highway/Roadway', 'Cost Accountant',\n",
       "       'VP/Principal/Partner', 'Customer Service Manager', 'Staff Nurse',\n",
       "       'Civil Engineer-Municipal', 'Head/VP/GM-SCM/Logistics',\n",
       "       'Service Delivery Leader', 'Wealth Manager',\n",
       "       'Analyze how our brand is positioned in the market and crystallize targeted consumers insights Take brand ownership and provide the vision, mission, goals and strategies to match up to Translate brand strategies into brand plans, brand positioning and go-to-market strategies Lead creative development and create motivating stimulus to get targeted population to take action Establish performance specifications, cost and price parameters, market applications and sales estimates Measure and report performance of all marketing campaigns, and assess against goals (ROI and KPIs) Coach the team and get the best from everyone Monitor market trends, research consumer markets and competitors activities to identify opportunities and key issues Oversee marketing and advertising activities to ensure consistency with product line strategy Monitor product distribution and consumer reactions Anticipate bottlenecks Brainstorm new and innovative growth strategies Align the company around the brands direction, choices and tactics Salary: INR 8,50,000 - 14,00,000 PA. Industry: Medical / Healthcare / Hospitals Functional Area: Other Employment Type: Permanent Job, Full Time',\n",
       "       'Search Engine Optimisation /SEO Analyst', 'French Teacher',\n",
       "       'Head/VP/GM-Project Finance',\n",
       "       'Industrial/Labour Relations Manager', 'Relationship Executive',\n",
       "       'Junior/Primary/Assistant Teacher', 'Host/Hostess', 'Journalist',\n",
       "       'Affiliate Marketing Manager',\n",
       "       'EXL (Nasdaq:EXLS) is a leading business process solutions company that helps companies drive business impact and adapt faster to the changing global marketplace. EXL provides operations management, embedded analytics and technology platforms to organizations in the banking and financial services, healthcare, insurance, utilities, transportation and logistics, and travel industries. With more than 21,000 people around the world, we work with our clients as strategic partners to execute operations, identify opportunities to gain a competitive edge, and create new channels for growth and savings. Headquartered in New York and operational since 1999, EXL is present in the U.S., U.K., Singapore, Romania, the Philippines, India, Germany, Czech Republic and Bulgaria. For more information, visit www.exlservice.com.',\n",
       "       'Head/VP/GM-Relationships', 'Pediatrician', 'Steward',\n",
       "       'Investor Relationship-Executive/Manager',\n",
       "       'Display Marketing Manager', 'Events/Promotion Manager',\n",
       "       'Instructional Designer', 'Credit/Control Manager',\n",
       "       'Manager - Market Research / Consumer Insights / Industry Analysis',\n",
       "       'Photographer', 'Drug Regulatory Director', 'General Manager',\n",
       "       'Research Associate', 'Head/VP/GM-Purchase/Material Management',\n",
       "       'Head/VP/GM/ Mgr-Online/Digital Marketing', 'TV Producer',\n",
       "       'Corporate Advisory Manager', 'Art Director/Senior Art Director',\n",
       "       'Product Development Executive',\n",
       "       \"Job Description: Selling Partner Support-GERMAN Amazon.com strives to be Earth's most customer-centric company where people can find and discover virtually anything they want to buy online. By giving customers more of what they want - low prices, vast selection, and convenience - Amazon.com continues to grow and evolve as a world-class e-commerce platform. Amazon's evolution from Web site to e-commerce partner to development platform is driven by the spirit of innovation that is part of the company's DNA. The world's brightest technology minds come to Amazon.com to research and develop technology that improves the lives of shoppers and sellers around the world. The Selling Partner Support Associate acts as the primary interface between Amazon and our German business partners. The Selling Partner Support Associate will be responsible for providing timely and accurate operational support to German Merchants selling on the Amazon platform. The successful candidate has an immediate, distinct effect on the experience of customers of Amazon, making a strong record of customer focus a high standard for the role. A Seller Support Associate is expected to address chronic system issues, provide process improvements, develop internal documentation, and contribute to a team environment, all while adhering to service level agreements for phone and/or email cases. Basic Qualifications Completed Bachelors degree or higher Language: German (B2.2 certification or above) Ability to work in shifts Experience within a customer service environment preferred. Desire to expand skills into new areas. Technical (Computers & Internet) savvy is required. Business acumen in areas of e-commerce and retail. Experience with e-commerce, as a consumer it is an essential requirement (payments, browsing, shipping, returns, etc) Committed seller advocate, drive process & tool improvements. Enthusiasm and strong self-motivation. Strong prioritization and time management skills, with a high degree of flexibility. Embrace constant change with flexibility and good grace. Demonstrate appropriate sense of urgency for contact response time in the face of variable workflow. Demonstrates effective communication, composure, and professional attitude Exemplary performance record, particularly with regard to quality & productivity Desired skill-sets include MS Office Application Excel and Internet Explorer / Mozilla Firefox Summary of Responsibilities Demonstrates effective, clear and professional written and oral communication. Provides prompt and efficient service to Amazon Sellers and Merchants including the appropriate escalation of Sellers issues. Builds Platform and business knowledge to better serve sellers Maintains a positive and professional demeanor always portraying the company in a positive light and effectively managing sensitive issues. Demonstrates excellent time-management skills and the ability to work independently knowledge while using departmental resources, policies and procedures. Contributes to a positive team environment and proactively aids team members with difficult contacts as needed. Maintains acceptable performance metrics such as quality, productivity, first contact resolution, and attendance. Actively seeks solutions through logical reasoning and data interpretation skills and identifies trends to appropriate channel including improvement suggestions. Liaise with other departments such as Customer Service, Merchant Investigations, or Payments teams as required to resolve Sellers issues and ques Salary: INR 5,00,000 - 7,00,000 PA. Industry: Other Functional Area: Other\",\n",
       "       'Head/VP/GM-Quality Assurance/Quality Control',\n",
       "       'Saisun Outsourcing Pvt Ltd, Recruitment | Contract Manpower | Payroll Outsourcing | Campus Hiring | Facility Management Services | Statuary Compliance',\n",
       "       'Correspondent/Assistant Editor/Associate Editor',\n",
       "       'Service/Maintenance Supervisor', 'Service Engineer',\n",
       "       'Equity Analyst', 'Hindi Teacher', 'Head/VP/GM-Legal',\n",
       "       '* A US based $4.0 billion world leader in staffing services to over 6000 customers globally. * World\\'s largest \"Technology\" staffing company in the world today - IT, Telecom, Infrastructure and Engineering. * TEKsystems is a part of Allegis Group which is a $16.0 Billion US based privately held firm. One of the world\\'s largest privately held companies (source: Forbes) * The 6th Largest staffing company in the world and the 2nd Largest in the US. * One of the top vendors to 90% of Fortune 500 companies. * Every year we deploy over 80,000 employees across different parts of the world. * Operations in North America, Europe and Asia with over 300 offices across locations. * In India, TEKsystems currently has 1000+ technical consultants employed at various Fortune 500 companies across the country. * For the second consecutive year, TEKsystems was named to Fortune magazine\\'s \"100 Best Companies to Work For\" in 2014. * Please visit - www.teksystems.com ; www.allegisgroup.com, for more information.',\n",
       "       'Head/VP/GM-Client Servicing', 'Forex Dealer',\n",
       "       'Assistant Manager/Manager-(Technical)', 'Project Manager-Telecom',\n",
       "       'Animation Designer', 'Debt Analyst', 'Head/VP/GM-Marketing',\n",
       "       'Derivatives Dealer',\n",
       "       'Manager Marketing - Internal / External Communication',\n",
       "       'Bio-Technical Research Associate/Scientist',\n",
       "       'Transitions/Migrations Manager',\n",
       "       \"Requirement Qualifications: Candidate must possess at least a Bachelor's/College Degree in any field. Preferably with Science, technology or computer application background At least 4 to 8 years of working experience with IT / Security is required for this position Should be knowledgeable in Information technology / IT security concepts / Information security concepts A good understanding of various information system technologies including: Active directory, Networking, LAN / WAN, firewalls and enterprise security solutions Job Summary: Carry out all information security risk assessment Carry out Privacy risk and impact assessment for client operations and technology infrastructure Conducting operations audit based on Information security and privacy principle Conducting review of contractual contracts, privacy contracts / exhibits / privacy agreements Supporting compliance certification (ISO, PCI DSS) and client audits Handling information security incidents, data breaches investigations Assist Risk management functional leaders in overseeing compliance activities relating to information security Driving information security training and awareness to ensure employees are aware of their responsibilities Experience with network security Scanners, and other vulnerability analysis tools such as Nessus, Qualys. Experience in generating system assessment reports Ability to implement the policies and procedures laid down by the IT and Infosec. Salary: Not Disclosed by Recruiter Industry: BPO / Call Centre / ITES Functional Area: Other Employment Type: Full Time, Permanent\",\n",
       "       'Ground Staff', 'Chief Medical Officer/Head Medical Services',\n",
       "       'Head/VP/GM-Quality', 'Business Editor',\n",
       "       'Banquet Sales Executive/ Manager', 'Asset Manager',\n",
       "       'Executive Sous Chef/Chef De Cuisine',\n",
       "       'Cynosure Corporate Solutions is a human capital services company. Executive Search | Recruitment | Staffing services | Training | HR aligned services.',\n",
       "       'Head/VP/GM - Analytics & BI', 'Pathologist', 'RF Engineer',\n",
       "       'Head/VP/GM-Underwriting', 'Head/Manager/GM-Media Planning',\n",
       "       'School Teacher', 'Mechanical Engineer-HVAC',\n",
       "       'Public Relations Executive',\n",
       "       '2 or more years of professional working experience in 3D Studio Max, Maya, Adobe Photoshop & ZBrush/ 3Dcoat/Substance Painters or any other similar 3D tools. Required skills: Should have good experience of working in Unity3D or any other Game Engines. Expertise in 2D/3D graphic production tools. Knowledge of rendering engines. Be able to rig, model, texture and animate with the direction of other Artists, Art Director, Designer and Producer. Ability to create and adapt to various game art styles. Ability to also work on low poly assets and make beautiful and memory-efficient textures and effects. Ability to translate abstract concepts into impressive on-screen visuals. Efficient and speedy work practices for quick turn-around time under tight deadlines. Excellent interpersonal, writing and communication skills. Please provide a portfolio including example of your work with your application. Desired Skills: Scripting and/or programming experience would be an added advantage. Be able to work well as part of a team. Have excellent organizing skills. Be able to work with minimum supervision. Experience on a few shipped titles, preferably on iOS and Android. Who you are? You have a passion for Visual Design/Games/AR. You enjoy crafting an entire world from mere 2D sketches. You impart life to characters and give them their distinctive personalities. You lend new dimensions and perspectives to 2D Art. You are an idea person. You are the creative spark that will help people understand their working environments better, learn without risk, introduce gamers the world over to our titles. Virtually create any world you can imagine. What you will do? Create and produce AR 3D artwork in accordance with the direction of other Artists, Art Director, Designer and Producer. Work on art asset integration in Unity 3D. Report status of deliverables to your team, Art Director, Lead, Producer and Development Director. Work within a small, motivated team and communicate effectively. Spearhead, mentor and help artists in the team to attain highest quality art in the allotted production time.\\xa0 How we will help you grow? You will be provided with constant learning opportunities. You will have the opportunity to become a AR/VR Technical Artist You can work with our VR/AR research team. You will be provided with all the tools, Books, Online courses, In-house training required to learn and explore new avenues and directions. You will be a part of bi-weekly art challenges to interact with peers and hone your skills. Salary: Not Disclosed by Recruiter Industry: Animation / Gaming Functional Area: Other Employment Type: Permanent Job, Full Time',\n",
       "       'SnapSeaarch (formerly known as Pharmahood Consultants) operates as an extended HR arm for its clients, providing Recruitment services to MNCs and Business Conglomerates across India. The organization was founded in 2003 for serving mainly the Healthcare sector and has since grown the company in this decade\\'s time to serve 17 different industry verticals today. Today SnapSeaarch is amongst the \"Top 3 Preferred Recruitment Services Partner\" for its long-standing clients. SnapSeaarch has been known in the executive search names through its Process, People and Passion to mark a difference in each and every assignment takes up. All 3 Ps at SnapSeaarch marks difference with their quality uncompromised for the entire process. SnapSeaarch is in the midst of another record setting year to get covered in the Consultants Review Magazine as the pioneers in the Recruitment industry. We have been recognized as \"India\\'s 10 Most Promising Recruitment Consultants-2018\" in the Consultant Review Magazine March 2018 edition.',\n",
       "       'National Head', 'Treasury Manager',\n",
       "       'Sales/Business Development Manager-Broking',\n",
       "       'Head/VP/GM-Credit Risk', 'Textile Designer',\n",
       "       \"At TEKsystems, we're obsessed with technology. Its power to change everything. Technology fuels our passion and commitment to helping organizations do what they set out to. When we engage, we bring fresh ideas that help you galvanize your performance. Refine your strategy. Spark new energy. The future-and how we get there-depends on those who build, connect, create and transform our world. The most successful and innovative businesses are already doing it, and we're skilled experts at bringing in the teams and support needed to thrive.\",\n",
       "       'Construction-Specialty', 'Dermatologist', 'Legal Officer',\n",
       "       'HR Business Partner', 'Waiter / Waitress / Sommelier',\n",
       "       'Back Office Executive', 'Computer Teacher',\n",
       "       'Regulatory Affairs Manager', 'Freelance Journalist',\n",
       "       'Underwriter', 'Trainees',\n",
       "       \"Allegis Group India is a wholly owned subsidiary of Allegis Group, Inc. In India, the company specifically focuses on dealing with Technology products and providing high-end engineering design and analysis, IT and ITES services,Vendor Management, Training and Staffing services to Fortune 500 clients.About Allegis Group: A US $6billion world leader in staffing services to over 4000 customers globally World's largest Technology staffing company in the world today IT, Telecom, Infrastructure and Engineering BROne of the world's largest privately held companies (source: Forbes) The 6th Largest staffing company in the world and the 2nd Largest in the US One of the top vendors to 99% of Fortune 500 companies Employs over 100,000 employees across different parts of the world Operations in North America, Europe and Asia with over 300 offices and now in India\",\n",
       "       'Infosys is a leading provider of next generation consulting, technology and outsourcing solutions. We are dedicated to help organizations build tomorrows enterprise and advance the way the world works that is why Forbes ranksus 19th among the top 100 most innovative companies. Our employees partner with clients to transform thier business one conversation one idea one insight at a time. While we are at it some things remain unchanged theunwavering ethics transparency and respect behind everything we do. We will always be a company powered by intellect and driven by values. So if your passion is to build solutions that really make a diffrence to enterprisesthe community and your world Infosys is the right palce for you.',\n",
       "       'Credit Manager-Corporate Banking',\n",
       "       'DESIGNATION \\xa0- Associate Manager- P&S DOMAIN KNOWLEDGE \\xa0- Trade finance domain expertise with respect to following products : -Letter of Credit -Letter of Guarantee -Import Collection -Export Collection -Bank Guarantee -Standby LC -Open account Trade services -Bill of Lading -Bill of exchange JOB DESCRIPTION \\xa0- The broad responsibilities include: -Proactively looking for creative ways to position Newgens Solution by incorporating specific industry/domain expertise and business/functional knowledge. -Working closely with sales team to provide clarifications and answers to customer queries requiring deep product expertise on timely manner. -Carrying out Proof of Concepts to demonstrate how Newgens solution could meet customer requirements and deliver values. -Ensure compliance to System and Processes such as legal & commercial terms, Proposals, RFPs, RFIs, BOM etc. -Giving demos of Newgen products and solutions and creating proof of concepts. -Developing and maintaining comprehensive knowledge of Newgens products and similar competitive products to effectively compares/competes and position Newgen. EXPERIENCE \\xa0- 2-4 Years SKILLS REQUIRED \\xa0- You should be a B.E/B. Tech. or MBA from a reputed institute, with 2 to 4 years of experience as system analyst or solution consultant on Trade Finance domain. You must have: -Understanding of the software product market dynamics and software development processes. -Possess excellent relationship, communication and customer relationship management skills. -Exhibit strong leadership qualities through quick decision-making and change management & strong analytical ability. -Good experience in Ms-Office and documentation skills. Willingness to travel. Location: \\xa0Mumbai\\xa0 Salary: Not Disclosed by Recruiter Industry: IT-Software / Software Services Functional Area: Other Employment Type: Permanent Job, Full Time',\n",
       "       'Chief Engineer', 'Collections Officer',\n",
       "       'Beauty Manager / Beautician', 'Insurance Analyst',\n",
       "       'Project Finance Manager',\n",
       "       'Assistant Manager/Manager -(Technical)',\n",
       "       'Medical Superintendent/Director', 'Captain',\n",
       "       'A tele-caller job is basic service to attend calls from Employees and note their problems Calling the new Joiner after 2 to 3 days of Joining for basic Information Informing the reporting manager. Should know Language Telugu, kannada & Hindi. Salary: Not Disclosed by Recruiter Industry: Facility Management Functional Area: Other Employment Type: Permanent Job, Full Time',\n",
       "       'Gynaeocologist', 'Collections Executive',\n",
       "       '* TEKsystems is a part of Allegis Group -an $8.5 Billion US based privately held firm. One of the world\\'s largest privately held companies (source: Forbes) * One of the world\\'s largest \"Technology\" staffing companies today - IT, Telecom, Infrastructure and Engineering. * Every year we deploy over 80,000 employees across different parts of the world. * Operations in North America, Europe and Asia with over 300 offices * In India, we have more than 1000+ technical consultants employed at various Fortune 500 companies across Bangalore, Hyderabad, Delhi, Mumbai, Pune & Chennai. * TEKsystems was named to Fortune magazine\\'s \"100 Best Companies to Work For\" list for 2013. * Please visit - www.teksystems.com ; www.allegisgroup.com, for more information on us.',\n",
       "       'Interaction Designer', 'Analytical Chemistry Manager',\n",
       "       'Oncologist',\n",
       "       'Unisys is a worldwide information technology company. We provide a portfolio of IT services, software, and technology that solves critical problems for clients. We specialize in helping clients secure their operations, increase the efficiency and utilization of their data centers, enhance support to their end users and constituents, and modernize their enterprise applications. To provide these services and solutions, we bring together offerings and capabilities in outsourcing services, systems integration and consulting services, infrastructure services, maintenance services, and high-end server technology. Unisys India was established in 2004 in Bangalore. We have strengthened tremendously in terms of headcount and infrastructure, as well as capabilities to become an integral part of the Unisys global delivery organization. Today, we have three state-of-the-art facilities - two in Bangalore and one in Hyderabad. At Unisys India you will see a representation from most functions of Unisys. Be it product development for Systems & Technology, application design and migration for Global Industries, service desk / enterprise computing / ITIL processes / field operations back office for GOIS or extensions of various Unisys corporate functions. We are here today because of our relentless efforts towards timely, quality and cost efficient deliveries, all meant to drive a high level of customer satisfaction at a compelling cost. A unique blend of mature processes, high focus on tools and, above all a team of highly talented and motivated employees play a critical role in making this possible. We are poised to play an increasingly important role in Unisys journey towards predictable and profitable growth. You could be a part of this change. Imagine It. Done. For more information, visit http://www.unisys.com',\n",
       "       'Principal', 'Investment/Treasury Manager',\n",
       "       'Roles and responsibilities\\xa0 New Business Development Achieving the sales target / KPIs of the organization DSO Controlling Responsible for Collection and Receivables Inventory Control RFQ, Quotation, Negotiation in coordination with the KAM team Responsible to get the price increases from the customers Responsible to achieve the desired gross margins New product introduction Eliminating loss making product through VAVE ideas/ bench marking with open market products Technical interface to Project management and Technical Planning to get the optimized designs and costs in line with the market expectations Experience in handling Japanese customers TOYOTA, HONDA, SUZUKI Candidate will be joining in Hosur for 3 months of Training Purpose & Product Knowledge, then will be transferred to Pune. Salary: Not Disclosed by Recruiter Industry: Automobile / Auto Anciliary / Auto Components Functional Area: Other',\n",
       "       'Roles and responsibilities\\xa0 Position: Senior Research Analyst Job location: Bangalore Key Objectives Developing solid understanding of businesses being assessed in discussion with promoters and management Analysing historical business and financial performance Understanding business and financial risk Preparing financial projections for corporates Understanding and preparing detailed notes Presenting a case to a rating committee Liaison with external agencies including issuers and investors Technical Skills & Experience Minimum three years experience of working on mid-sized corporatecredit analysis as the lead analyst Smart communication and presentation skills Knowledge and Expertise : Knowledge of credit rating process and report writing. Management: Ensure full compliance with laid down rules, processes and procedures at all times. Consistently demonstrates cost conscious behaviour. Communication: Displays strong communication and interpersonal skills. Quality Service: Optimal utilisation of time. Leadership and Initiative: Ensure full compliance with laid down rules, processes and procedures at all times. Proactively identifies and escalates situations wherein issuer needs to be managed to elicit full cooperation. Salary: Not Disclosed by Recruiter Industry: KPO / Research / Analytics Functional Area: Other',\n",
       "       'Opthamologist', 'Proposal Response Manager',\n",
       "       'Head/VP/GM-Taxation', 'Insurance Advisor',\n",
       "       'Civil Engineer-Land Development', 'Travel Desk - Coordinator',\n",
       "       'Camera Man/Technician', 'Stenographer/Data Entry Operator',\n",
       "       'We have an urgent opening for Financial Counselor / Estimates: Service Line Brief Role & Responsibility: Taking effort to convert potential OPD Patient to IPD. Preparing accurate estimations regarding surgeries and other procedures and explaining them to the patients. Co-coordinating with Doctors and Patient. Patient counseling regarding billing, Top Up deposits, TPA activities. Educate patient about payment options & financial Assistance. Maintaining Data for financial Reporting. Co-ordination with Consultants, Nursing staff and Allied services for various patient services. Accurately performs registration process for new and existing customer. Ensure accurate information is given to the patient and relatives and satisfy their Queries. Preparing & Counseling Estimate for Surgical patients. Co-ordinate with billing team for completing daily discharges in the desired TAT. Solving queries and issues of patient in any services. Updating Audit Report. Reporting and escalating issues and daily updates occurring to Manager. Re-counseling. Follow-up with patients. Implementation and Promotion of new packages. NABH training Ensuring proper implementation of rules by staff. Training to the new employees. Perks and Benefits\\xa0 Open / Bet in Industry Salary: Not Disclosed by Recruiter Industry: Medical / Healthcare / Hospitals Functional Area: Other',\n",
       "       'Environment Engineer/Officer', 'Head/VP/GM-Investment Banking',\n",
       "       'Cardiologist', 'Marketing Research Field Supervisor',\n",
       "       'Roles and responsibilities\\xa0 Global Quote to Order Operations - part of the Global Finance Operations team, processing Migration Requests, validating documents, Products Mapping and calculation on support and license values as per procedures and guidelines set up for the process. Interact with Internal customers from different LOBs to process orders. Liaison with Sales, Contracts and VAD/Partners to ensure that all information is available to ensure accurate booking of orders and revenue in accordance with established procedures and guidelines. Provides administrative support for the accounting function including the areas of general ledger, accounts payable, accounts receivable, fixed assets, and inter-company transactions. Interact with other LOBs and Business functions as relevant on the process. Job Role & Career Level Senior Analyst, Job Description: Primary Skills: Transaction Handling: Should be able to process transactions as per defined standard operating procedures Should be able to carry out necessary research in Oracle systems like customer standards, installed base, quoting application, service contracts, etc. Should be able to work with stake holders and peer group on various process related questions / issues Should have the ability to serve as a primary point of contact for process related questions / escalations / issues Should be able to contribute to other activities like UAT, Transaction Audits, Reporting & Analysis, Documentation and Process Training Communication: Should be able to articulate clear and concise messages Should be able to demonstrate understanding of internal and/or external customer needs and how to meet them Should be able to effectively communicate with various stakeholders like Sales Teams, Development teams, Senior Management, etc. across geographies Adapting to Change: Shows willingness to adjust to changing work environments Should be flexible to work in any shift to meet global business requirements Should have the ability to multi-task in a fast paced environment in meeting timelines despite changing needs Problem Solving & Analytical Ability: Should be able to recognize problems, gather appropriate data, diagnose root cause of issues and provide effective workarounds, as required Should be able to analyze the data and draw inferences from both qualitative and quantitative data Should be able to bring forward process improvement ideas Result Orientation: Should persevere to deliver against objectives and take personal accountability for own performance Should demonstrate attention to detail in all aspects of work Should act with a sense of urgency and confidence to deliver quality work in a timely manner Other Skills: Should have the ability to learn the nuances of business & processes in a short period of time Should be a team player with good interpersonal skills Preferred Qualification/Skills Graduation in Science or Commerce 3-5 years of experience in KPO/BTO environment Should have good skills in MS Office Applications like Excel, Word and Power Point Hands on experience in Fusion application will be an added advantage Salary: Not Disclosed by Recruiter Industry: Other Functional Area: Other',\n",
       "       'Construction-Heavy', 'Mathematics Teacher',\n",
       "       'Roles and responsibilities\\xa0 Effectively handling processes and compliance of the customer service department. Identifying areas of the possible discrepancies in the claims using intimation data. Close co-ordination with the surveyor to convey the discrepancies. Specification of loss prevention recommendations Active support of internal and external training and knowledge management initiatives Developing and implementing claims technical policies and procedures such as quality audit, cost minimization techniques. Working collaboratively with other business units to achieve division and business unit goals Salary: INR 3,00,000 - 4,75,000 PA. Industry: Insurance Functional Area: Other',\n",
       "       'Unit Manager', 'Sales/Business Development Manager-Forex',\n",
       "       'CEO/MD/Director', 'RFI / RFP Manager', 'Sub Editor/Reporter',\n",
       "       'Librarian', 'Nutritionist', 'Civil Engineer-Telecom',\n",
       "       'Civil Engineer-Water/Wastewater',\n",
       "       'Head/VP/GM-Compensation & Benefits', 'Spanish Teacher',\n",
       "       'Sales Executive/Investment Advisor', 'EDP Analyst',\n",
       "       \"At TEKsystems, we're obsessed with technology. Its power to change everything. Technology fuels our passion and commitment to helping organisations do what they set out to. When we engage, we bring fresh ideas that help you galvanise your performance. Refine your strategy. Spark new energy. The future-and how we get there-depends on those who build, connect, create and transform our world. The most successful and innovative businesses are already doing it, and we're skilled experts at bringing the talent they need to thrive.\",\n",
       "       'Head/VP/GM-Production',\n",
       "       'Roles and responsibilities\\xa0 Assess students needs for training Align training with the organizations strategic goals Develop training programs that make the best use of available resources Oversee the creation of online learning modules and other educational materials for students Teach training methods and skills to students Evaluate the effectiveness of training programs and students Walk in Details: No.6-3-636, Perika Bhavan Circle, Raj Bhavan road, Khairatabad, Hyderabad 500004. Interview Date & Time. 01-07-2019 to 03-07-2019. Time: 9am to 4pm Interested Candidates share your resumes to hr2@chennaisamirta.com Salary: Not Disclosed by Recruiter Industry: Education / Teaching / Training Functional Area: Teaching , Education , Training , Counselling',\n",
       "       'Employee Relations Executive', 'Datawarehousing Technician',\n",
       "       'Medical Transcriptionist', 'Technology Manager',\n",
       "       'Head/VP/GM-Documentation/Shipping', 'Payroll Executive',\n",
       "       'Head/VP/GM/National Manager-Sales',\n",
       "       'International Marketing Manager', 'Features Editor',\n",
       "       'Head/VP/GM-Tour Management',\n",
       "       'Asset Operations/Documentation-Executive/Manager',\n",
       "       'Mechanical Engineer-Plumbing/Fire Protection',\n",
       "       'Hardware Installation Technician', 'Academic Coordinator',\n",
       "       'Fitness Trainer / Gym Instructor', 'Clearing Officer',\n",
       "       'Head/VP/GM-Sales', 'Employee Relations Manager',\n",
       "       'Assistant Director/Director', 'Fund Manager-Equity',\n",
       "       'Electrical Engineer-Utility', 'Electrical Engineer-Telecom',\n",
       "       'Masseur', 'Bid Manager', 'Nursery Teacher',\n",
       "       'Executive/ Sr Executive - Facility Management',\n",
       "       'Exigent Group Limited is a global legal services outsourcing organization, providing advice and delivering a range of legal services, contract management solutions and business analytical tools aimed at reducing risk, improving compliance and driving process and cost efficiencies for clients in the US, Canada, UK, Australia and South Africa.',\n",
       "       'Ford', 'Account Director',\n",
       "       'Allegis Group India is a wholly owned subsidiary of Allegis Group, Inc. In India, the company specifically focuses on dealing with Technology products and providing high-end engineering design and analysis, IT and ITES services,Vendor Management, Training and Staffing services to Fortune 500',\n",
       "       'Commercial Artist',\n",
       "       'We have an excellent opportunity for .Net developers with CIBER Work Location: Cibersites India Pvt Ltd, 6th Floor, BWTC, Mahadevpura, Bangalore. Landmark: Next to EMC, same campus. Contact Person: Amrita Location: Bangalore Experience Level: 4 -6 years Job type: Permanent Note: Should be comfortable to work in Ciber. Looking only for Immediate to 15 days joiners only. Must be comfortable for F2F interview. Mandatory skill:\\xa0 ASP.NET with MVC framework. C#, ASP.NET, MVC 4 or 5, SQL Server 2008/ 2012, Entity Framework. Job Description: Must have Practical experience in C#, ASP.NET, MVC 4 or 5, SQL Server 2008/ 2012, Entity Framework, .Net Framework, AJAX, Java Script, HTML5, XML, XSLT, SSRS, SSIS, SSAS Must to have Comprehensive knowledge of Software Development Life Cycle (SDLC), Requirements Analysis, Object Oriented Programming (OOP), Information Systems and software design and patterns Must have Ability to multi-task and stay organized in a dynamic work environment. Problem solving skills to assess design alternatives and perform tradeoffs to determine designs or functionality that best meet customer needs. Nice to Have Nice to have Knowledge of parallel processing, distributed and grid computing, Service-Oriented Architectures (SOA) and Web Services Applications integrations and messages control between systems Graphics skills and website designing using Photoshop, Bootstrap, Flash animations, 3D design, etc. Mobile Applications development on IOS, Android, or Xamarin. Please share the details to aanandita@ciber.com with your updated resume . Full Name- Total exp.- Rel. exp.- Notice Period- CTC- ECTC- Reason for Job change- Current Location- Salary: Not Disclosed by Recruiter Industry: IT-Software / Software Services Functional Area: Other Employment Type: Permanent Job, Full Time',\n",
       "       'Technical Lead -Hardware Design',\n",
       "       'ANRI SOLUTIONS HR SERVICES PVT LTD - Recruitment Consultancy',\n",
       "       'Arts Teacher', 'Trainee Cadet', 'Quality Coach', 'Hair Stylist',\n",
       "       'Banquet Sales Executive/Manager',\n",
       "       'Head/VP/GM-Mergers & Acquisitions', 'Product Executive',\n",
       "       'Nephrologist', 'GSM Engineer', 'RF System Designer',\n",
       "       'Service Manager', 'Chief of Bureau/Editor in Chief',\n",
       "       'Job Description About Line of Business: GFIC Global Finance Information Center is the Line of Business which is the Captive division of Oracle which takes care of the Entire Order to Cash function for Oracle Hardware and Software products. There are many processes with GFIC OA (Order Administration), PA (Project Accounting), AR (Accounts Receivables), AP (Accounts Payable), DM (Customer Data Management), Stock, Collections and many other Sub processes Understanding on Order to Cash 1) Contract Management This Team helps in Signing up Legal Agreements with the Customer post the customer agreeing to Buy product from Oracle. 2) Customer Agreements This team helps in Creating Customer details and records and Reporting / Non Revenue Orders 3) OA (Order Administration) This Books the Order of the Customer 4) AR This Team raises the Invoices and send them to the customer 5) Collections This Team follows-up on the invoices and get the payment from the customer Please find a brief description about the team : DM Team process summary as below: The Deal Management Services (DM) Team is responsible configuring products with appropriate pricing & discounts and creating contract documents for Customers who are buying Oracle products. The team needs to liaise with internal functions like Sales, Product Release groups, local Deal Management teams and Global process Owners, to be able to produce the right product pricing and clauses in accordance with Oracles Global Approval Matrix. An integral aspect for the team is to enable Sales to delivery accurate and timely inputs to the customer with faster turnaround to facilitate revenue velocity. The team also works with downstream booking processes to seamlessly handhold the entry of such records into Oracle systems post the customer agrees to buy our products. This team works Globally and is responsible for Hardware, Cloud and Software line of businesses. Its falls under the gamut of Order Management of our captive unit (GFIC - Global Finance Information Center) Position: Senior/Lead Analyst Job Location : Bangalore Responsibilities Assemble and draft contract documents, supporting assigned Oracle line of business, country, or sales organization, following Oracles global contract process and use appropriate tools and systems Review transactional approvals/executive summaries to ensure appropriate business approvals are secured for any non-standard contract options per the relevant Oracle Global Approval Matrix Review the Partner or Customer Master Agreement to ensure it is valid for the current transaction and meets define Oracle standards Engage, per pre-defined guidelines, with Sales and other cross-functional/Internal teams on nonstandard contract terms Receive and Review customer-executed documents, and perform a thorough validation. Manage Sales and Customer expectation on time-to-completion for a given transaction request Desired Skills and Experience Very good communication skills, both written and verbal Ability to work effectively under time critical deadlines. Ability to effectively manage multiple tasks and priorities, and attention to detail Ability to adapt and acquire new skills quickly Ability to work in a high pressured, fast moving and challenging environment Organized and detail oriented. Would be a plus having: Good customer focus skills Would be a plus having: Proven experience in handling contractual documents Candidate should have 5-10 years of professional experience and possess knowledge of Quote or Order(Q20) or Order to Cash(O2C) or Deal Management Experience. Have openings at different levels If interested pls send your resume to poonam.g.gupta@oracle.com with details like current ctc/expected ctc and notice period Thanks Poonam Salary: Not Disclosed by Recruiter Industry: IT-Software / Software Services Functional Area: Other Employment Type: Permanent Job, Full Time',\n",
       "       'Security Engineer', 'System Integration Technician',\n",
       "       'Clinical Research Manager', 'Leading LOGISTICS FIRM',\n",
       "       'Head/VP-Public Relations/Corporate Communication',\n",
       "       'llegis Group India is a wholly owned subsidiary of Allegis Group, Inc. In India, the company specifically focuses on dealing with Technology products and providing high-end engineering design and analysis, IT and ITES services,Vendor Management, Training and Staffing services to Fortune 500 clients. About Allegis Group: A US $6 billion world leader in staffing services to over 4000 customers globally & largest Technology staffing company in the world today. IT, Telecom, Infrastructure and Engineering . One of the worlds largest privately held companies. The 6th Largest staffing company in the world and the 2nd Largest in the US . One of the top vendors to 99% of Fortune 500 companies. Employees over 100,000 employees across different parts of the world. Operations in North America, Europe and Asia with over 300 offices and now in India',\n",
       "       '* A US based $4.0 billion world leader in staffing services to over 6000 customers globally. * World\\'s largest \"Technology\" staffing company in the world today - IT, Telecom, Infrastructure and Engineering. * TEKsystems is a part of the Allegis Group which is a $16 Billion US based privately held firm. One of the world\\'s largest privately held companies (source: Forbes) * The 4th Largest staffing company in the world and the 2nd Largest in the US. * One of the top vendors to 90% of Fortune 500 companies. * Every year we deploy over 80,000 employees across different parts of the world. * Operations in North America, Europe and Asia with over 300 offices across locations. * In India, TEKsystems currently has 1800+ technical consultants employed at various Fortune 500 companies across the country. * For the second consecutive year, TEKsystems was named to Fortune magazine\\'s \"100 Best Companies to Work For\" in 2014. * Please visit - www.teksystems.com; www.allegisgroup.com, for more information.',\n",
       "       'Head Nurse / Nursing Superintendent / Clinical Instructor',\n",
       "       'Accessory Designer', 'Head/VP/GM-Technical Support',\n",
       "       'Head/VP/GM-Training & Development', 'Freelancer',\n",
       "       'Email Marketing Manager', 'Treasury Operations Manager',\n",
       "       'Product Manager-Auto/Home Loans', 'Purchase Officer',\n",
       "       \"GlaxoSmithKline is one of the world's leading pharmaceutical and healthcare companies, with statisticians and programmers working at UK and US R&D sites, and worldwide. In recognition of the developing sophistication and technical requirements of the programming role, the Clinical Programming department was formed as a standalone department within the broader Clinical Statistics group 18 months ago, covering all phases of clinical drug development and commercialization in a wide range of therapeutic areas. In addition to the group's activities supporting GSK's pipeline of drugs, key accountabilities include driving CDISC implementation for the reporting of clinical trials, and identifying and implementing technology solutions to offer further benefit and efficiency for the group's activities.\",\n",
       "       \"Aurobindo Pharma Ltd. is a vertically integrated pharmaceutical company that delivers innovative solutions. From discovery to development to commercialization, our growth is aided by cost-effective drug development and substantial manufacturing. Leveraging India's globally competitive cost base and talented team of scientists, we have successfully launched a range of affordable products which are accessible across the globe.\",\n",
       "       'TEKsystems Global Services (TGS) is the Software services division of TEKsystems. TEKsystems is a $4.3 billion organization with over 150 offices across the globe. TGS accounts for $600 Million and has about 5000 full time employees across the globe of which 1200 are in India. TGS operates through multiple solution centers across locations like US (Dallas, Redmond, Bloomington, Baltimore, Maryland), Europe (Amsterdam, London), Canada, Manila and India (Bangalore and Hyderabad). We are an ISO 27001 certified Organization',\n",
       "       'Embedded Technologies Engineer',\n",
       "       'Dear all, Urgent vacancy at Fortis Hospital Mulund, Mumbai for Interventional Paediatric Cardiologist. Qualification - MBBS, DCH(Paediatric), DNB(Paediatric), FNB(Peadiatric Cardiology) Experience - 0-4 Yrs Interested candidates can share their resume on rahul.narkar@fortishealthcare .com or can call us on 02249254263/02249254292 Salary: Not Disclosed by Recruiter Industry: Medical / Healthcare / Hospitals Functional Area: Other Employment Type: Full Time, Permanent',\n",
       "       'ICWA', 'Civil Engineer-Traffic',\n",
       "       'PTC Inc. is a computer software and services company founded in 1985 and headquartered in Boston, Massachusetts. The global technology company has over 6,000 employees in 30 countries, 1,150 technology partners and over $1bn in revenue.[citation needed] The company began initially developing parametric, associative feature-based, solid computer-aided design (CAD) modeling software in 1988, including an Internet-based product for product lifecycle management (PLM) in 1998. PTC products and services now include Internet of things (IoT) and augmented reality (AR) among others.',\n",
       "       'Social Studies Teacher',\n",
       "       \"TEKsystems - an Allegis Group company, is the world's leading Technology Staffing & services Organization. We service over 4000 clients globally, of which 91% are Fortune 100, 82% are Fortune 500 companies. At the moment, I am working towards SAP C4C consultant position for one of our clients - A global leader in manufacturing engineered products for Defence, Aero-Space, Atuomobile, Automotives, Power Transmission etc., based in Bangalore.\",\n",
       "       'Assistant Editor/Editor', 'Soft Skill Trainer', 'Sr Visualiser',\n",
       "       'Psychiatrist', 'Insurance Operations Officer',\n",
       "       'CTO/Head/VP-Technology (Telecom/ISP)',\n",
       "       'Accenture (NYSE: ACN) is a leading global professional services company, providing a broad range of services and solutions in strategy, consulting, digital, technology and operations. Combining unmatched experience and specialized skills across more than 40 industries and all business functions underpinned by the worlds largest delivery network- Accenture works at the intersection of business and technology to help clients improve their performance and create sustainable value for their stakeholders. With approximately 477,000 people serving clients in more than 120 countries, Accenture drives innovation to improve the way the world works and lives. IMPORTANT NOTICE We have been alerted to the existence of fraudulent messages asking job seekers to set up payment to cover various costs associated with establishing employment at Accenture. No one is ever required to pay for employment at Accenture. If you are contacted by someone asking for payment, please do not respond, and contact us at india.fc.check@accenture.com immediately.',\n",
       "       'Sales Head', 'Performance Management Manager', 'Neurologist',\n",
       "       'Cards-Operations Manager',\n",
       "       'Working with Organization Manufacturing committee on Manufacturing best practices Liaison with the Government officials in various ministries and network with the Industry stakeholders to get the inputs on manufacturing processes Work on organization various awards i.e. Quality, Safety and Manufacturing Excellence Awards Feedback to the industry after the awards about their good practices, areas of improvements etc. Handle important aspects of the Departments conference/ seminar Required Candidate profile Technical (Knowledge, Skills, Attitude) The candidate should have the basic understanding of the Manufacturing operations. He/ She should have good presentation skills, Interpersonal skills and should possess good writing & communication skills. Generic / Managerial The candidate should be self-driven and committed towards the work assigned. He/ She should be a good team player. Salary: INR 4,50,000 - 8,00,000 PA. Industry: NGO / Social Services / Regulators / Industry Associations Functional Area: Other Employment Type: Full Time, Permanent',\n",
       "       'IT/Technical Editor', 'Network Planning Manager',\n",
       "       'Bio-Technical Research Manager', 'Carry Forward Agent (CFA)',\n",
       "       'Hotel Seven Seas, an extraordinary symbol of chic, opulence and sophistication, provides a signature experience to cherish for a lifetime with its classic European architecture and avant-garde design. Started in 1995, Seven Seas Hospitality owns and operates four banquet halls in Delhi and has been recording an annual growth of 20-30 per cent year-on-year. Located 22 km from Indira Gandhi International Airport, 16 km from New Delhi Railway Station and 12 km from Central Delhi, Hotel Seven Seas is a premier luxury destination and the perfect choice for business and social events. The property will boast of total meeting space of 1,00,000 sq ft area, which can accommodate upto 4000 guests, 3 Lavish Banquet Halls and Rooms in size options from 15000 sq ft to 25000 sq ft 2 two nightclubs, a shopping complex of 6000 sq feet, an all-day dining multi cuisine restaurant and a specialty restaurant cum bar. Other facilities will include a health club, steam, sauna, Jacuzzi and swimming pool. The group is also exploring the possibility of opening another hotel, post the completion of this ambitious project, in Gurgaon by 2016. However, this is still under planning stage. The brand new luxury Hotel Seven Seas has over 100 contemporary designed well appointed rooms. All our rooms come with luxurious plush beddings, upgraded bath amenities; Flat screen Television, spacious work areas with high speed Internet Access,',\n",
       "       'Security Manager',\n",
       "       'G-Cube is the one of the forward looking and growing e-learning organization Head Quartered in India, with sales and marketing office in California, US and Ontario, Canada. G-Cube is an ISO 9001:2000 certified organization and is working towards achieving CMMi Level 3 Certification. G-Cube serves global organizations with its best of the breed services and has been awarded with Deloitte Technology Fast 50 India Ã¢â‚¬\" 2009 award. Please visit the following link to know about few of our clients: gc-solutions.net/clientlist.asp G-Cube offers range of e-learning services both for online as well as classroom based learning delivery. Our services include advisory, custom courseware design / development and Instructional Design. G-Cube believes in individual self development through knowledge development. We have a well established knowledge sharing process through our internal and external Blog. To know more please visit: gc-solutions.net/blog',\n",
       "       'Looking for a Assistant Engineer Service for Flowserve Sanmar Limited (Mechanical Seal Division)\\xa0 to be based at Chennai JOB CONTENT To carry out trouble shooting of seals/new installation/Spares business generation. KEY RESPONSIBILITIES Installation of new seals Trouble shooting to seals Providing technical support to customers by holding presentation for technicians/Engineers Interacting with HO service and Engineering regarding seals problems/ failures/ trouble shooting Maintaining data as per ISO requirement for service complaints & provide same to HO Preparing service reports and keeping branch sales/HO service informed on site Problems Providing feed back on FSL seal performance and competitors seal performance EXPERIENCE: Diploma Mechanical 4-8 Years of experience in service/Maintenance function of Pump / Seal / Rotating Equipment from a Centrifugal Pump Manufacturer Compressor Industry Technically Sound with Good Product Knowledge Salary: Not Disclosed by Recruiter Industry: Industrial Products / Heavy Machinery Functional Area: Other Employment Type: Full Time, Permanent',\n",
       "       'A renowned name into Security Services !!!', 'Orthopaedist',\n",
       "       'Roles and responsibilities\\xa0 Role : Online Brand Store (eCommerce) Location : Greater Noida Industry : Consumer Durable Responsibilities : Incumbent will be responsible for deployment of global online stores Will be responsible for GTM for online store, their execution, handling digital marketing initative, increasing the online brand awareness Will be responsible for planning and achieving sales target and doing robust marketing for building the online store presence in digital space. Managing site performance, demand generation, channel health and managing overall marketing efficiency. Will be collaborating with cross functional teams for to manage all aspects of eCommerce business including online marketing, website design, web analytics, content strategy, promotional campaigns etc. Mandatory : Experience: 7-13 years of experience in managing online and eCommerce business in Consumer durable industry. Education: Any Graduate with good communication skills. Salary: INR 20,00,000 - 30,00,000 PA. Industry: Consumer Electronics / Appliances / Durables Functional Area: Other',\n",
       "       'On Contract Basics cataloging at various portals Product Knowledge of Apparels Listing of new products on all major marketplaces Essential competencies -High Proficiency level of Excel -Customer Oriented Salary: INR 1,75,000 - 2,75,000 PA. Industry: Internet / Ecommerce Functional Area: Other Employment Type: Permanent Job, Full Time',\n",
       "       'Head/VP/GM-Commercial', 'Head/VP/GM-Private Equity/Hedge Fund/VC',\n",
       "       '- TEKsystems India is a wholly owned subsidiary of Allegis Group, Inc, a $11 billion enterprise - TEKsystems provides global IT professional recruitment services to help organizations achieve their IT and business goals. - We provide service across Applications, End User Support, IT Leadership, Networks Infrastructure, Project & PMO - $3.8 billion world leader in Technology Staffing Services - 6,000+ clients, with 98% client retention - Over 100 locations throughout North America, Europe and Asia - 5,000 full time employees - Over 80,000 IT consultants deployed worldwide annually - #1 US Provider of IT Recruitment - Best of Staffing Client Satisfaction and Candidate Satisfaction by Inavero - Forbes America\\'s Best Employers list - We have been listed in Fortune Magazine under \"100 Best Companies to Work For\" for 5 consecutive years - Please visit - www.teksystems.com ; www.allegisgroup.com, for more information on us. - In India, the company specifically focuses on dealing with Technology products and providing high-end engineering design and analysis, IT and ITES services,Vendor Management, Training and Staffing services to Fortune 500 clients. - The 6th Largest staffing company in the world and the 2nd Largest in the US. - One of the top vendors to 99% of Fortune 500 companies. - Employs over 100,000 employees across different parts of the world Operations in North America, Europe and Asia with over 300 offices and now in India',\n",
       "       'Science Teacher', 'CIO',\n",
       "       '\" Deeper understanding of Transfer Pricing as a concept and provisions of TP law (definition of AE, methods etc.) in India. Basic understanding of other direct tax concepts and other allied laws. Good communication skills oral as well as written knowing business English is very important. Understanding of the clients business and the issues involved. Personal ownership for own work and performance Ability to understand the issues and discuss the same with senior colleagues in a proper way To keep updated with case laws and assist senior colleagues in application of the ratio of the judgements in the assignments handled Personal ownership (responsibility and accountability) for the work and performance Ability to learn new skills, share knowledge and experience To support senior colleague in the assignments in a fruitful manner To ensure that the risk and other policies are being adhered to \" Experience is TP is mandatory. Interested candidates can share their resume on reetisingh@gmail.com or can call at 8355949358. Salary: INR 6,00,000 - 9,00,000 PA. Industry: Other Functional Area: Other Employment Type: Permanent Job, Full Time',\n",
       "       'Laurus Labs Ltd is a fast growing pharmaceutical company. About Company: https://www.lauruslabs.com/',\n",
       "       'Chemistry Teacher', 'Bartender', 'Dietician/Nutritionist',\n",
       "       'Media Buying Executive/Manager', 'Health Club Assistant./Manager',\n",
       "       'Senior Sub Editor/Senior Reporter', 'Branch Marketing Manager',\n",
       "       'Jewellery Designer', 'Security Supervisor', 'Chancellor',\n",
       "       'GD Research Center Pvt. Limited (GDRC) is a subsidiary of GlobalData Ltd, UK. GlobalData is the premier source of actionable insight into the energy and healthcare industries. With the combined expertise of more than 1,000 researchers, market analysts and consultants across 10+ countries, the company provides high-quality, accurate and transparent industry insight that helps clients achieve growth and increase business value. GlobalData&rsquo;s success as a leading research and consulting firm is also highlighted by the fact that it is frequently referenced in some of the world&rsquo;s leading publications, such as the Wall Street Journal, The Washington Post, Forbes, the Financial Times, Bloomberg and Reuters. In addition to this, it has also been named one of the UK&rsquo;s most inspiring companies, after being listed in the London Stock Exchange Group&rsquo;s recent report, &ldquo;1000 Companies to Inspire Britain&rdquo;. GDRC itself has an experienced team of more than 800 researchers, analysts and software professionals based in Hyderabad, India, with diverse industry and educational backgrounds. GDRC hires its employees from educational institutes of global repute, enabling the company to provide high-quality research and analysis. GDRC&rsquo;s team uses robust methodologies, including in-depth primary and secondary research techniques, proprietary databases and input from panels of industry experts, to deliver its leading research and analysis. In addition to this, GDRC has a highly experienced senior management team, consisting of leading figures in the business information industry. Why not find out more about GlobalData and GDRC via the links below: www.globaldata.com www.gdresearchcenter.com',\n",
       "       'Special Effects Technician', '2nd Engineer',\n",
       "       'Retail Marketing Manager',\n",
       "       'Ensuring that patient care instrument used throughout the Fortis Hospitals Ltd. is safe. Effectively manage and coordinate activities of the Biomedical Engineering Department to include the evaluation, replacement, service and repair of complex biomedical patient equipment; administer policies and procedures applicable to efficient operations. To provide necessary support to the Doctors / Nursing Staff / Operators in terms with equipments usage. Direct all aspects of maintenance, and repair of the equipment, as well as ongoing training and education of staff related to safe medical device uses and practices. Provide first hand support to the medical equipments during their breakdown and normal maintenance. Direct and manage preventive maintenance on medical equipment, through adjustment or replacement of items on a scheduled basis to prevent equipment failures. Upkeep all equipment to its proper and uninterrupted working performance by planned and scheduled preventive maintenance program. Ensure the patient safety and result accuracy by measures like periodic calibration, periodic safety checks etc. Provide on job training and support to the equipment users and operators. Coordinate with the agencies for spares and service support. Establish and implement technical protocols and management functions pertaining to biomedical equipments. Advice administration on matters pertaining to equipments purchase, performance, financial provisions etc. Establish and define departmental goals and objectives to meet goals and objectives of Fortis Hospital. Plan, implement and evaluate programs to meet departmental goals. Salary: INR 1,75,000 - 3,00,000 PA. Industry: Medical / Healthcare / Hospitals Functional Area: Other Employment Type: Full Time, Permanent',\n",
       "       'New Model STRCS & Launching Plan as per sales Dept. 3d Design Professional (Uni-garphics & Solid works) New Model BOM Validation PL Sheet Preparation and Validation New Model CKD Ordering Confirmation GP Ratio Control through RCI Activities Cost Buster Project Lead New Mold History & Tech. Data New Mold Drawing Management Local Parts & CKD Parts Management Local Mold & Tools New Development Plan New Model Launching as per Schedule & Quality Issues Solving Plan Drawing Management Salary: Not Disclosed by Recruiter Industry: Consumer Electronics / Appliances / Durables Functional Area: Other Employment Type: Permanent Job, Full Time',\n",
       "       'Aerial Telecom Solutions Pvt. Ltd.', 'Translator',\n",
       "       'To prepare daily sales MIS To prepare referrals MIS To maintain all sorts of data requirement of the team and ensuring reporting of the same on a timely basis Adhoc requirements of the unit for data if any. Job Location : Vashi, Navi Mumbai Thanks & Regards, Team- HR Salary: INR 3,00,000 - 3,50,000 PA. Industry: Medical / Healthcare / Hospitals Functional Area: Other Employment Type: Full Time, Permanent',\n",
       "       'Footwear Designer', 'Insurance Operations Manager',\n",
       "       'Guest Service Agent', 'Freshers',\n",
       "       'People are at the heart of every successful business initiative. At TEKsystems, a leading provider of IT staffing and IT services, we understand people. Every year we deploy over 80,000 IT professionals at 6,000 client sites across North America, Europe and Asia. Our deep insights into the IT labor market enable us to help clients achieve their business goals-while optimizing their IT workforce strategies.',\n",
       "       'Consulting', 'Quality Assurance & Quality Control-Manager',\n",
       "       'Executive/Master Chef',\n",
       "       'Summary: We are looking for a seasoned business / product professional with core expertise in strategic thinking, planning and executing disruptive initiatives at a large scale. The person will be responsible for leading the seller portal end to end. The role involves working closely in cross functional set up including the clients, business and operations teams to plan and execute the product roadmap to drive exceptional growth in core KPIs. Responsibilities: Build and evangelize short-term and long-term product vision in close collaboration with the product engineering, business and operations teams. Drive innovation in the product and build efficiencies in the development process with an end objective of improving the customer delight thereby leading to better adoption and retention. Build customer insights through primary / secondary research and data analytics. Work closely with product marketing teams to drive the product agenda amongst the clients and the business teams. Keep a track on the competition landscape and new trends in product / technology for continuous product / business improvement. Manage the product lifecycle from concept to phasing out of the product(s) across the entire portfolio including UI/UX, Engineering, QA, product communication etc. Inspire, motivate, develop and lead a team of technology and product management professionals to build and deliver world-class products that make a difference for our customers and foster the ecosystem of good. Skills and Expertise: Mandatory 8+ years managing product development teams. Experience working closely with internal and external stakeholders. Strong analytical skills working with data to make product decisions. Demonstrated history of continuous learning and ability to stay current with technology and product trends. Experience working in Agile or SCRUM process. Exceptional ability to negotiate and influence with cross functional peers / seniors. A healthy mix of quantitative aptitude and qualitative perspective in decision making. Knowledge of all the relevant product / process management and analytical tools e.g. JIRA, Google Analytics etc. Desired Experience in managing product development team for a large-scale internet business. Experience in incubating technology-based products/services Education: B.Tech / M.Tech from Tier 1 college MBA from Tier 1 college Span: Seller Platform Perks and Benefits\\xa0 Best in the Industry Salary: Not Disclosed by Recruiter Industry: Internet / Ecommerce Functional Area: Other',\n",
       "       'Roles and responsibilities\\xa0 Walk In interview at Fortis Hospital Mulund, Mumbai for Patient Care Services department in Front desk/ OPD Billing. CRITERIA: Qualification is must. English speaking is must. INTERVIEW DETAILS: NO INTERVIEWS ON 1st May 2019 DATE : 30-Apr-2019, 2nd May 2019 - 04th May 2019 TIME\\xa0 :\\xa0 10AM - 04 PM VENUE\\xa0 : Fortis Hospital Mulund, Mumbai CONTACT PERSON : DISHA JAIN Interested candidates are requested to carry following documents: 2 hard copies of resumes. AADHAR Card Last 3 months salary slips Original graduation degree certificate Interested candidates can directly walk in call us on 09987011279 Salary: Not Disclosed by Recruiter Industry: Medical / Healthcare / Hospitals Functional Area: Other',\n",
       "       'Display Marketing Executive', 'Managing Editor',\n",
       "       \"Company Profile Hari Darshan Sevashram (P) Ltd Hari Darshan Group is one of the largest manufacturers of Dhoop, Agarbathies, Pooja Products and Home Fragrances. The brand has been a household name across india over last many decades. Hari Darshan offers Professional, Ethical & Secure work environment for it's employees couples with career growth prospects. For more details about company you can log on to- www.haridarshan.com www.risingsun.in www.inatur.in\",\n",
       "       'Business Content Developer', 'Cards-Sales Officer/Executive',\n",
       "       'From Patient-to-Payment,â„\\xa0 nThrive empowers health care for every one in every community.â„\\xa0 We transform financial and operational performance to enable health care organizations to thrive. We integrate our knowledge and advisory services across the entire revenue cycle and we are accountable to our clients - not payor or provider owners - ensuring unbiased and focused health solutions that best meet their needs.',\n",
       "       \"Solugenix is an information technology services firm that has a rich history of providing comprehensive technology services and solutions for more than four decades. As a pioneer in IT services, we've partnered with some of the biggest global corporations across many industries. Our history was built on a foundation of partnerships with global brands like McDonald's, Microsoft, CIT Group, Johnson & Johnson, Herbalife, Sony Pictures Entertainment, and many others. Whether it's providing dedicated support centres, staffing quality teams, or delivering business service solutions, clients can always count on Solugenix.\",\n",
       "       'Engaging with the senior leadership and middle management of the Tax and advisory functions in the region. Working on e-tds return, tax clearance preparation, TEQ preparation, counselling minutes notes preparation, tax return, PAN application and technical research. Ensuring transition plans and migration resources are in place, SLAs are agreed and service delivery is maintained during the transition Supporting the development of ramp-up plans and building of profiles on basis of service line demands Managing and resolving escalations that have impact on critical path of service delivery Taking regular feedback from client service teams on services delivered from ICoE Reviewing performance of ICoE against agreed KPIs and their compliance to SLAs and reverse SLAs at regional leve Promoting a KPMG centric and partnership approach to develop strong relationships with other working groups and ensure adherence to Group governance Monitoring the reports being sent regarding ICoE performance Exceptions Handling and Reporting - Perform Root cause analysis for low CFT score or SLA non-compliance and take corrective action Interested Candidates can share their their resume on reetisingh@kpmg.com Salary: INR 8,00,000 - 9,00,000 PA. Industry: Other Functional Area: Other Employment Type: Permanent Job, Full Time',\n",
       "       'Regional Marketing Manager', 'Fund Manager-Debt',\n",
       "       'Roles and responsibilities\\xa0 Selenium Automation Resources.6.Selenium with Strong Java.Good Communication Skills with Good Attitude and Aptitude.1.Very good understanding and hands on automation experience. Must design and implement robust scalable and high quality test automation suites2.Write execute and debug automated test cases troubleshoot and debug complex systems. Must have excellent problem solving skills.3.Experience in communicating with business teams other development teams and management to collect requirements describe software product features and technical designs Salary: Not Disclosed by Recruiter Industry: Internet / Ecommerce Functional Area: Other',\n",
       "       'Hepatologist', 'Head Teacher / Head Mistress / Head Master',\n",
       "       'Bar Manager',\n",
       "       'About Aston Carter: * Aston Carter is a wholly owned subsidiary of Allegis group which is $12.5billion global staffing and recruiting company. * Aston Carter was acquired by Allegis in the year 2011 and expanded to APAC including India in 2017. * Aston Carter focus on recruiting business professionals across various disciplines like Accounting and Finance, Sales, Operations, Audit, Risk and compliance, and also Banking and financial services * We work with many fortune 500 customers across the globe and currently working with 20+ global clients in India which are predominantly in Banking and financial services sector to name a few, Visa, Morgan Stanley, JPMC, Fidelity, Wells Fargo, Myntra etc * We have 2000 candidates working out of different clients globally and over 100+ in India. * We have our presence in 90+ locations globally and in India we are in Bangalore, Mumbai, Pune, Chennai as well as Hyderabad',\n",
       "       '. Reviewing protocol SAP & RAP preparation and implementation Sample size calculation Provides statistical consultations Preparing and reviewing randomization list Preparing and reviewing of tables, listing and graphs, as applicable Preparing and reviewing of statistical report, as applicable Provides support for blinding and unblinding documentations Preparing and reviewing standard operating procedures Training/Guiding/Mentoring associate biostatisticians and junior programmers. Job allocation & distribution to associate biostatisticians and junior programmers and evaluation of the progress of the project Facing client to answer statistical queries Any other responsibilities assigned by the organization from time to time Salary: Not Disclosed by Recruiter Industry: Pharma / Biotech / Clinical Research Functional Area: Other Employment Type: Full Time, Permanent',\n",
       "       'Fashion Editor', 'Claims Executive',\n",
       "       'Karvy Stock Broking Limited KARVY, is a premier integrated financial services provider, and ranked among the top five in the country in all its business segments, services over 16 million individual investors in various capacities, and provides investor services to over 300 corporates, comprising the who is who of Corporate India. KARVY covers the entire spectrum of financial services such as Stock broking, Depository Participants, Distribution of financial products - mutual funds, bonds, fixed deposit, equities, Insurance Broking, Commodities Broking, Personal Finance Advisory Services, Merchant Banking &amp; Corporate Finance, placement of equity, IPOs, among others. Karvy has a professional management team and ranks among the best in technology, operations and research of various industrial segments',\n",
       "       'Roles and responsibilities\\xa0 Functional Responsibilities He / She will be a key member of the Media Center of Excellence (MCoE) team, responsible for carrying out development activities, executing analysis & supporting various MCoE projects. Work on POCs (Proof of Concept), ad-hoc delivery, crack codes for data tables, schemas, and structures in panel data warehouse. Role involves working under dynamic, challenging conditions demanding multi-tasking. Also involves working with multiple points of contact and stakeholders, other analysts on the team and guiding them with the usage of right kind of technique/tool/process, as required. Manage day-to-day delivery independently and in collaboration with clients on a variety of projects by obtaining project specifications, required clarifications, and eventually presenting results/findings to the clients. Role requires proficiency in Big data handling tools such as Hadoop/Hive, R programming knowledge, Julia Role demands proficiency in Microsoft Excel and PowerPoint to report findings and actionable insights obtained through studies. Ability to think critically to address and solve clients business questions. Being creative in identifying new techniques and processes to streamline and increase efficiency and effectiveness of current work-streams is a plus. Strong project management skills and high levels of attention to detail. Organizational Information Security Responsibilities Follow the organizations security policy and procedures, Maintain the clear desk and clear screen policy and other physical security procedures, Follow the password, access control procedures, back up PC data Report security incidents. Professional Experience Experience in development, experience in developing statistical methodologies. Programming languages: advanced to expert proficiency in Hadoop/Hive, R, Julia, Hive Advanced proficiency in statistical methodologies and ability to independently develop statistical methods to isolate impact due to stimulus (such as advertising impact on purchase behavior) in experimental designs. Proficiency with Generalized Linear Models, Bayesian algorithms, and isolating impacts due to covariates Computing variances on samples and developing methodologies to compute goodness of fit for GLM models Familiarity with longitudinal and panel data analysis and its application in marketing; nice to have exposure to/some familiarity with time series analysis, design of experiments, sampling theory Demonstrates strong interpersonal, communication and presentation skills; Trusted; Educates on analytic methods, shapes thinking and influences the decisions Should have medium to high proficiency in MS-Office, specifically Excel and PowerPoint Should have basic knowledge of market research & any specific knowledge on retail and FMCG/CPG industry will be an added advantage. Client Management and Value - Effectively manages client projects; builds and maintains support and trust; acts as a trusted advisor and delivery partner Behavioral & Attitudinal Skills Client Management - Client Focus Communication Skills - Effective Written and Verbal Communication Thinking Skills - Analytical Thinking - Critical thinking Drive for results/Managing self and team - Decision making - Planning & organizing - Problem sensitivity Innovation and Continuous Improvement - Active learning - Fluency of ideas Collaboration and Teamwork - Interpersonal Relationship & Networking - Team playing Change Leadership - Change Driver Ownership - Responsibility & Initiative - Negotiation skills Salary: Not Disclosed by Recruiter Industry: IT-Software / Software Services Functional Area: Other',\n",
       "       'Must have hands on experience in making various kinds of coffee Experience with Coffee Day, Starbucks, and other prominent Caf Preferred. Experience 6 months and above. Salary: INR 1,50,000 - 2,00,000 PA. Industry: Media / Entertainment / Internet Functional Area: Other Employment Type: Permanent Job, Full Time',\n",
       "       'Practical Training/Internship', 'AV Editor',\n",
       "       'A leading food & hospitality industry', 'Pastry Chef',\n",
       "       'Sales/Business Development Manager-Derivatives',\n",
       "       'Biology Teacher',\n",
       "       'SAP GRC Access Control: At least 1 end to end implementation of GRC AC 10.0/10.1/12.0 or 3-4 years of support experience Proficient in ECC/S4HANA Role management and user administration Good understanding of SAP Security Complete understanding of SPRO Configurations for AC Proficient in Risk Analysis and Remediation. In depth understanding of SoD and the Ruleset generation and maintenance along with mitigation control Good command on MSMP Configuration, HR Triggers In-depth understanding of Emergency Access management and Business Role Management Working knowledge of Fiori/ HANA Studio is desirable. SAP GRC Process Control: At least 1 end to end implementation of GRC PC 10.0/10.1/12.0 or 3-4 years of support experience Proficient in Continuous Control monitoring along with good command on various Business rule sub scenarios and BRF+ Experience in HANA based CCM Complete understanding of SPRO Configurations for PC Good understanding of Risk and Controls in SAP ECC/S4HANA Proficient in various control assessments and workflow configurations In-depth understanding of Process Control roles and responsibilities. Salary: Not Disclosed by Recruiter Industry: Accounting / Finance Functional Area: Other',\n",
       "       'Chemical Research Manager', 'The Glove',\n",
       "       'Chemical Research Associate/Scientist',\n",
       "       'Visiting Faculty / Guest Faculty', 'Head/VP/GM-Broking',\n",
       "       'Infrastructure & Technology Manager', 'Technical Documentor',\n",
       "       \"ACT (Atria Convergence Technologies Ltd.) was born out of a vision to become the most admired in-the-home entertainment, education, Today, we are closer than ever to realising it. Based in Bangalore, we serve a number of cities and towns in Karnataka, Andhra Pradesh, Telangana, Tamil Nadu and Delhi. We are one of the country's most renowned cable and broadband company, bringing state-of the art services to nearly 2 million happy homes: Fibernet (Internet over Fiber Optics) Digital TV HDTV\",\n",
       "       'Radiologic technologists',\n",
       "       'Providing data analysis and reports on performance of apparel brands and units monthly MIS docket for the top management and Corporate Office. Coordinating the P & B process for T & A quarterly deck for T & A business along with providing other adhoc analysis & reports as required. Financial Reporting-Financial Planning Retail Expansion and Operational Review- Sales Marketing and Sellex Analysis Pricing and Inventory & Others Required Candidate profile Master Degree Salary: Not Disclosed by Recruiter Industry: Retail / Wholesale Functional Area: Other Employment Type: Full Time, Permanent',\n",
       "       'Switching/Router Engineer', 'Transport Executive',\n",
       "       'Currently we are having an opportunity with one of the leading Bank , for the role into Inbound Customer Executive for Credit Cards. Location- Delhi NCR Experience- 2 to 5 Years Education- Any Graduate Salary: INR 2,25,000 - 5,00,000 PA. Industry: Banking / Financial Services / Broking Functional Area: Other',\n",
       "       'Process Engineer-Plant Design',\n",
       "       'Head Nurse/Nursing Superintendent/Clinical Instructor',\n",
       "       'OPD Management and Consultants Coordination. Registration and billing Telephone operations. Appointment and Scheduling. Cancelling / rescheduling appointment whenever necessary by calling and informing the concerned patients Information delivery Supervising the Reception- by handling queries, enquiries and lab reports Update of Contact details of consultants/ star dials and extension numbers Preparing Indent of Consultant Chambers. Compiling FOS data and sending it to the concerned OPD executive who is in charge of consolidating data Issuing Keys & Lockers of the drawers. Supervising and checking of daily MIS before sending it. Service recovery in that Area. Training of the HIS modules in front office with the power users. Maintaining attendance, leave & delays in absenteeism of the Consultants. Giving on-the-job training. Room Readiness. Inventory of the stationery. Inter departmental co-ordination (Wards, H/K, Maintenance, Stores, Admin, IT) Handles patient grievances (regarding waiting period for the Drs and non availability of appointments) Salary: INR 90,000 - 2,25,000 PA. Industry: Medical / Healthcare / Hospitals Functional Area: Other Employment Type: Permanent Job, Full Time',\n",
       "       'Designation: Collection Manager / Officer - CD/TW. Location: Ahmedabad / Surat / Rajkot Job Requirement: Candidate should have minimum 1 to 2 years of experience into collections. Should have managed Collection agency. Ready to work in field for collection Salary: INR 2,00,000 - 5,00,000 PA. Industry: Banking / Financial Services / Broking Functional Area: Other Employment Type: Full Time, Permanent',\n",
       "       'Job Details : - ============= Job Role - Sales Executive No. of open position & Location -\\xa0 Topsia - 2, Chinarpark/Rajarhat - 4 Salary - 8,500 (In hand) + PF + ESIC + Performance Incentive Work - Product Promotion and sales Contact - Saddam - 9051097786 Salary: INR 1,00,000 - 1,75,000 PA. Industry: Other Functional Area: Other',\n",
       "       'Head/VP/GM-Corporate Advisory',\n",
       "       'Head/VP/GM-Public Relations/Corporate Communication',\n",
       "       'Allegis Group India', 'Forex Manager',\n",
       "       'We\\xa0 Have urgent requirement for OKTA Experience-7 to 17 Years Shift Time- 6:00PM to 3:00AM JD Different applications integrations with Okta Troubleshoot the application login issues Handle tickets raised by the end users related to Okta sign on/application issues Taking care of the overall end-user experience Install & configure the Okta AD agent (if required) Import people from Active Directory Setup self-service in Okta Gather required information from Service Provider for applications integration Work with Okta support for troubleshooting Prepare KBs related to Okta Provide access for various applications to enable them for Single Sign On Set Up Multi Factor Authentications Addition of users to groups Creation of users & groups in Okta based on the requirement Interacting with clients and end users for the enhancements Open cases with Okta support for the resolution of any bugs identified Engage with vendor to investigate / resolve technical issues Provide required information and reports to the management to review the existing process Salary: Not Disclosed by Recruiter Industry: IT-Software / Software Services Functional Area: Other Employment Type: Permanent Job, Full Time',\n",
       "       \"Allegis Group India is a wholly owned subsidiary of Allegis Group, Inc. In India, the company specifically focuses on dealing with Technology products and providing high-end engineering design and analysis, IT and ITES services,Vendor Management, Training and Staffing services to Fortune 500 clients. About Allegis Group: A US $6billion world leader in staffing services to over 4000 customers globally World's largest Technology staffing company in the world today IT, Telecom, Infrastructure and Engineering One of the world's largest privately held companies (source: Forbes) The 6th Largest staffing company in the world and the 2nd Largest in the US One of the top vendors to 99% of Fortune 500 companies Employs over 100,000 employees across different parts of the world Operations in North America, Europe and Asia with over 300 offices and now in India\",\n",
       "       'Sourcing Manager', 'Landscape Architect',\n",
       "       'Fashion Content Developer',\n",
       "       'Depository Services-Executive/Manager',\n",
       "       'Mergers & Acquisitions Manager', 'axaxl.com',\n",
       "       'About TEKsystems:* TEKsystems provides global IT professional recruitment services to help organizations achieve their IT and business goals.*We provide service across Applications, End User Support, IT Leadership, Networks Infrastructure, Project & PMO*$3.8 billion world leader in Technology Staffing Services*Wholly owned subsidiary of Allegis Group, a $11 billion enterprise*6,000+ clients, with 98% client retention*Over 100 locations throughout North America, Europe and Asia*5,000 full time employees*Over 80,000 IT consultants deployed worldwide annually*#1 US Provider of IT Recruitment*Best of Staffing Client Satisfaction and Candidate Satisfaction by Inavero *Forbes America\\'s Best Employers list *We have been listed in Fortune Magazine under \"100 Best Companies to Work For\" for 5 consecutive years*Please visit - www.teksystems.com ; www.allegisgroup.com, for more information on us.',\n",
       "       'Production Executive',\n",
       "       \"Dear Candidate\\xa0 Greetings from IndiaMART Company Profile: IndiaMART is India's largest online B2B marketplace, connecting buyers with suppliers. With 60% market share of the online B2B Classified space in India, the channel focuses on providing a platform to Small & Medium Enterprises (SMEs), large enterprises as well as individuals. Founded in 1999, the company's mission is to make doing business easy.\\xa0 \\xa0 IndiaMART offers a platform to 5.98 Crore buyers to search from over 5.01 crore products and get connected with over 47 lakhs reliable and competitive suppliers.\\xa0 IndiaMART has been the proud recipient of the Red Herring 100 Asia Award in 2008, as one of the top promising Asian companies driving the future of technology. Led by innovation and backed by experience, the company introduced a pioneering service in 2012 called Buy Leads. The commitment to bring affordable and low-cost solutions to the SMEs laid the foundation for this low-cost solution, which was bestowed with the Manthan Award in 2013 under the E-business and Financial Inclusion Category. IndiaMART has over 2500 employees located across 76 offices in the country. We look forward to having you as a part of the team. Job Description:\\xa0 Handling and integrating large volumes of data from various sources. Business performance analysis and reporting :\\xa0 Analyzing the KPIs on a regular basis to monitor the health of business and related reporting to the Top Management Preparing quarterly & Monthly decks and getting the same reviewed to the top management. Annual/Monthly Plans with Business Strategies To be a core member in formulating and driving the freezed plans for all business verticals. Variance analysis :\\xa0 Analyzing the variances against past performance and Planned and identifying the reasons for deviation. Responding to management queries on various key business issues and driving the changes required in business processes. Keep a close eye on all Key Business Metrics and do a root cause analysis in case of any significant spike/dip in any KBM Developing and communicating key metrics and business trends to various teams Help in planning (daily / weekly / monthly / quarterly / annual) by providing data driven insights Mining data, performing analysis, coming up with actionable insights, creating dashboards and presentations Necessary Skills: Analytical thinking; comfortable handling numbers and data. Self-motivated ability to close action items without much supervision. Ability to communicate well with different stakeholders. Good Command On Excel ++ Basic knowledge required for VBA/SQL & BI Tools. Salary: INR 5,00,000 - 6,00,000 PA. Industry: Internet / Ecommerce Functional Area: Other Employment Type: Permanent Job, Full Time\",\n",
       "       'Debt Instrument Dealer',\n",
       "       'DEPARTMENT : Solid Oral - Manufacturing SECTION : Granulation / Compression / Coating DESIGNATION : Officer / Senior Officer / Executive EXPERIENCE : 3 To 8 Years QUALIFICATION : B.Phrmacy / M.Pharmacy JOB LOCATION : Intas Pharmaceuticals Limited - SEZ Unit (Ahmedabad) JOB RESPONSIBILITY : Should be well versed with Tablet Compression, Granulation, Coating & Dispensing activities. Should have adequate knowledge on requirement of MHRA, USFDA and other regulatory bodies. Should be able to handle manpower efficiently. Should be able to do documentation work independently. Knowledge of SAP will be an added advantage. Salary: Not Disclosed by Recruiter Industry: Pharma / Biotech / Clinical Research Functional Area: Other Employment Type: Permanent Job, Full Time',\n",
       "       '4th Engineer', 'ENT Specialist',\n",
       "       'Manufacturers and exporters of Micro Nutrients, Organic Manure, Bio-Fertilizers, Bio-Activators, Bio-Pesticides & Pesticides, Multiplex is the leading household brand name for farmers across pan India. With over 40 years of experience in the field of agronomics, we are the pioneers of green farming and providing complete solutions for agriculture and horticulture to increase yield by quantity & quality.',\n",
       "       'Features Content Developer',\n",
       "       'FourEn is a technology partner company headquartered in Bangalore, India. FourEn is Driven by strong passion and an indomitable spirit to deliver value in the field of IT outsourcing and technology services',\n",
       "       '1.IMS certification/ re certification & surveillance audits planning and arranging through third party certification Bodies. 2.Internal Audit planning and execution (Quarterly). 3.Field call rate (FCR) reduction by temporary & permanent actions. 4.External failure cost reduction by daily technical communication with all India service person for urgent spares support in order to avoid CMRA & DDIR. 5.Service TSP & FQR issues closed on time. 6.Service technician Training planning & execution as per HO requirement. 7.Service bulletins preparation & shared with all India service team. 8.Model wise Service BOM preparation with service bill rate. 9.Service spares filled ratio monitoring & achieved as per define target. 10.Export CKD & SKD Spares kit packing with zero discrepancy & packing completion as per stuffing plan. 11.Model wise Service BOM preparation with service bill rate. 12.Service introduction of the newly launched model / product for service spares parts system. Salary: Not Disclosed by Recruiter Industry: Consumer Electronics / Appliances / Durables Functional Area: Other Employment Type: Permanent Job, Full Time',\n",
       "       \"Job Description PO Operations Analyst:- Responsible for creation of Purchase requests and working with the Source-to-Settle/Procurement team and Business teams to get Purchase Orders created. Also responsible for getting invoices paid on time. . Follow the PO responsibility matrix and workflow. Review SOW / Contracts/ Engagement Letter and ensure that these documents adhere to Oracle's Standard template, terms and conditions, and Policies. Collaborate with Tax and Treasury Business team, Procurement team and with external Service providers to resolve issues related to contracts/Sows/POs/Invoices. Adherence to Standard Processes and timelines (SLA) to support the Service Delivery. Ensure timely response to inquiries from the Tax and Treasury business team and other operational team members. Manage the right balance of communication with the business team members and management team (Emails, Calls, Meetings). Act on the Weekly Aging PR / Holds reports by coordinating with S2S team , Internal business team and suppliers to ensure timely solutions to Pending Purchase requests, Purchase orders, Invoices on Hold and contract and SOWs Proactively reach out to the reporting manager for any additional support to resolve key issues. Identify Process Improvement opportunities and being the change agent to bring in operations excellence. Conduct meetings with Key service providers and ensure a smooth operation of end-to-end Source to settle cycle with minimum escalations. Required Skills and Experience: Experience of 6 8 years in E2E Procurement function ( PR/PO/Invoices) with relevant experience in the Contract review process. Knowledge of ERP Procurement and Payable(AP) process as a User is an essential pre-requisite. Demonstrate Excellent Customer Support skills. Demonstrate experience in MS Office (Word, PPT, Excel spreadsheet(able to do pivots, formulas)), ERP Procurement and web-based applications. Strong Verbal and Written Communication Skills. Good negotiation and collaboration skills to resolve inquiries and issues Location: Bangalore,Krishna Magnum Building, Survey No.165/3 and 165/4, Billekahalli Village, Begur Hobli Salary: INR 9,00,000 PA. 885804 Industry: IT-Software / Software Services Functional Area: Other Employment Type: Permanent Job, Full Time\"],\n",
       "      dtype=object)"
      ]
     },
     "execution_count": 12,
     "metadata": {},
     "output_type": "execute_result"
    }
   ],
   "source": [
    "data[\"Job Title\"].unique()"
   ]
  },
  {
   "cell_type": "code",
   "execution_count": 13,
   "id": "9582b793",
   "metadata": {},
   "outputs": [
    {
     "data": {
      "text/plain": [
       "630"
      ]
     },
     "execution_count": 13,
     "metadata": {},
     "output_type": "execute_result"
    }
   ],
   "source": [
    "data[\"Job Title\"].nunique()"
   ]
  },
  {
   "cell_type": "code",
   "execution_count": 14,
   "id": "4cfddf57",
   "metadata": {},
   "outputs": [
    {
     "data": {
      "text/plain": [
       "(1000, 8)"
      ]
     },
     "execution_count": 14,
     "metadata": {},
     "output_type": "execute_result"
    }
   ],
   "source": [
    "data = data.sample(n=1000, random_state=42)\n",
    "data.shape"
   ]
  },
  {
   "cell_type": "code",
   "execution_count": 15,
   "id": "ea79ba9d",
   "metadata": {},
   "outputs": [
    {
     "name": "stderr",
     "output_type": "stream",
     "text": [
      "[nltk_data] Downloading package punkt to\n",
      "[nltk_data]     C:\\Users\\Blubirch\\AppData\\Roaming\\nltk_data...\n",
      "[nltk_data]   Package punkt is already up-to-date!\n",
      "[nltk_data] Downloading package stopwords to\n",
      "[nltk_data]     C:\\Users\\Blubirch\\AppData\\Roaming\\nltk_data...\n",
      "[nltk_data]   Package stopwords is already up-to-date!\n"
     ]
    }
   ],
   "source": [
    "import nltk\n",
    "nltk.download('punkt')\n",
    "nltk.download('stopwords')\n",
    "from nltk.stem.porter import PorterStemmer\n",
    "from nltk.corpus import stopwords\n",
    "import re"
   ]
  },
  {
   "cell_type": "code",
   "execution_count": 16,
   "id": "85b47f4b",
   "metadata": {},
   "outputs": [],
   "source": [
    "ps = PorterStemmer()"
   ]
  },
  {
   "cell_type": "code",
   "execution_count": 17,
   "id": "b6a8a368",
   "metadata": {},
   "outputs": [],
   "source": [
    "def cleaning(txt):\n",
    "    cleaned_txt = re.sub(r'[^a-zA-z0-9\\s]', '', txt)\n",
    "    tokens = nltk.word_tokenize(cleaned_txt.lower())\n",
    "    stemming = [ps.stem(word) for word in tokens if word not in stopwords.words(\"english\")]\n",
    "    \n",
    "    return \" \".join(stemming)"
   ]
  },
  {
   "cell_type": "code",
   "execution_count": 18,
   "id": "c4157132",
   "metadata": {},
   "outputs": [
    {
     "data": {
      "text/plain": [
       "'word digit 0987 love move drive'"
      ]
     },
     "execution_count": 18,
     "metadata": {},
     "output_type": "execute_result"
    }
   ],
   "source": [
    "cleaning(\"This is word and digit 0987 and loving moving driving %*$@&& \\r\\n\\r\\r\\r\")"
   ]
  },
  {
   "cell_type": "code",
   "execution_count": 19,
   "id": "92c96e0f",
   "metadata": {},
   "outputs": [
    {
     "data": {
      "text/plain": [
       "25815    sqljavascripthtmlhibernatejquerybusi processou...\n",
       "20710    bpo help desk custom servic data analysi custo...\n",
       "7841     python manag qualiti assur sdlc middlewar conf...\n",
       "8845                   sap bpc dba engin comput scienc sql\n",
       "10443    busi gener market sale manag materi handl tech...\n",
       "Name: Key Skills, dtype: object"
      ]
     },
     "execution_count": 19,
     "metadata": {},
     "output_type": "execute_result"
    }
   ],
   "source": [
    "data[\"Key Skills\"] = data[\"Key Skills\"].astype(str).apply(lambda x:cleaning(x))\n",
    "data[\"Key Skills\"][0:5]"
   ]
  },
  {
   "cell_type": "code",
   "execution_count": 20,
   "id": "306d8385",
   "metadata": {},
   "outputs": [
    {
     "data": {
      "text/plain": [
       "25815                    softwar develop\n",
       "20710    associatesenior associ nontechn\n",
       "7841                     softwar develop\n",
       "8845                     softwar develop\n",
       "10443            salesbusi develop manag\n",
       "Name: Job Title, dtype: object"
      ]
     },
     "execution_count": 20,
     "metadata": {},
     "output_type": "execute_result"
    }
   ],
   "source": [
    "data[\"Job Title\"] = data[\"Job Title\"].astype(str).apply(lambda x:cleaning(x))\n",
    "data[\"Job Title\"][0:5]"
   ]
  },
  {
   "cell_type": "code",
   "execution_count": 21,
   "id": "cd70008e",
   "metadata": {},
   "outputs": [],
   "source": [
    "data[\"new_col\"] = data[\"Key Skills\"] + \" \" + data[\"Job Title\"]"
   ]
  },
  {
   "cell_type": "code",
   "execution_count": 22,
   "id": "943edf6f",
   "metadata": {},
   "outputs": [
    {
     "data": {
      "text/html": [
       "<div>\n",
       "<style scoped>\n",
       "    .dataframe tbody tr th:only-of-type {\n",
       "        vertical-align: middle;\n",
       "    }\n",
       "\n",
       "    .dataframe tbody tr th {\n",
       "        vertical-align: top;\n",
       "    }\n",
       "\n",
       "    .dataframe thead th {\n",
       "        text-align: right;\n",
       "    }\n",
       "</style>\n",
       "<table border=\"1\" class=\"dataframe\">\n",
       "  <thead>\n",
       "    <tr style=\"text-align: right;\">\n",
       "      <th></th>\n",
       "      <th>Unnamed: 0</th>\n",
       "      <th>Job Salary</th>\n",
       "      <th>Job Experience Required</th>\n",
       "      <th>Key Skills</th>\n",
       "      <th>Role Category</th>\n",
       "      <th>Functional Area</th>\n",
       "      <th>Industry</th>\n",
       "      <th>Job Title</th>\n",
       "      <th>new_col</th>\n",
       "    </tr>\n",
       "  </thead>\n",
       "  <tbody>\n",
       "    <tr>\n",
       "      <th>25815</th>\n",
       "      <td>28671</td>\n",
       "      <td>Not Disclosed by Recruiter</td>\n",
       "      <td>3 - 5 Years</td>\n",
       "      <td>sqljavascripthtmlhibernatejquerybusi processou...</td>\n",
       "      <td>Programming &amp; Design</td>\n",
       "      <td>IT Software - Application Programming , Mainte...</td>\n",
       "      <td>IT-Software / Software Services</td>\n",
       "      <td>softwar develop</td>\n",
       "      <td>sqljavascripthtmlhibernatejquerybusi processou...</td>\n",
       "    </tr>\n",
       "    <tr>\n",
       "      <th>20710</th>\n",
       "      <td>22977</td>\n",
       "      <td>Not Disclosed by Recruiter</td>\n",
       "      <td>1 - 2 yrs</td>\n",
       "      <td>bpo help desk custom servic data analysi custo...</td>\n",
       "      <td>Voice</td>\n",
       "      <td>ITES , BPO , KPO , LPO , Customer Service , Op...</td>\n",
       "      <td>Strategy, Management Consulting Firms</td>\n",
       "      <td>associatesenior associ nontechn</td>\n",
       "      <td>bpo help desk custom servic data analysi custo...</td>\n",
       "    </tr>\n",
       "    <tr>\n",
       "      <th>7841</th>\n",
       "      <td>8671</td>\n",
       "      <td>Not Disclosed by Recruiter</td>\n",
       "      <td>10 - 15 yrs</td>\n",
       "      <td>python manag qualiti assur sdlc middlewar conf...</td>\n",
       "      <td>Programming &amp; Design</td>\n",
       "      <td>IT Software - Application Programming , Mainte...</td>\n",
       "      <td>Education, Teaching, Training</td>\n",
       "      <td>softwar develop</td>\n",
       "      <td>python manag qualiti assur sdlc middlewar conf...</td>\n",
       "    </tr>\n",
       "    <tr>\n",
       "      <th>8845</th>\n",
       "      <td>9774</td>\n",
       "      <td>Not Disclosed by Recruiter</td>\n",
       "      <td>3 - 7 yrs</td>\n",
       "      <td>sap bpc dba engin comput scienc sql</td>\n",
       "      <td>Programming &amp; Design</td>\n",
       "      <td>IT Software - Application Programming , Mainte...</td>\n",
       "      <td>Recruitment, Staffing</td>\n",
       "      <td>softwar develop</td>\n",
       "      <td>sap bpc dba engin comput scienc sql softwar de...</td>\n",
       "    </tr>\n",
       "    <tr>\n",
       "      <th>10443</th>\n",
       "      <td>11546</td>\n",
       "      <td>4,00,000 - 9,00,000 PA.</td>\n",
       "      <td>4 - 9 yrs</td>\n",
       "      <td>busi gener market sale manag materi handl tech...</td>\n",
       "      <td>Corporate Sales</td>\n",
       "      <td>Sales , Retail , Business Development</td>\n",
       "      <td>Aviation, Aerospace, Aeronautical</td>\n",
       "      <td>salesbusi develop manag</td>\n",
       "      <td>busi gener market sale manag materi handl tech...</td>\n",
       "    </tr>\n",
       "  </tbody>\n",
       "</table>\n",
       "</div>"
      ],
      "text/plain": [
       "       Unnamed: 0                    Job Salary Job Experience Required  \\\n",
       "25815       28671    Not Disclosed by Recruiter             3 - 5 Years   \n",
       "20710       22977   Not Disclosed by Recruiter                1 - 2 yrs   \n",
       "7841         8671   Not Disclosed by Recruiter              10 - 15 yrs   \n",
       "8845         9774   Not Disclosed by Recruiter                3 - 7 yrs   \n",
       "10443       11546       4,00,000 - 9,00,000 PA.               4 - 9 yrs   \n",
       "\n",
       "                                              Key Skills  \\\n",
       "25815  sqljavascripthtmlhibernatejquerybusi processou...   \n",
       "20710  bpo help desk custom servic data analysi custo...   \n",
       "7841   python manag qualiti assur sdlc middlewar conf...   \n",
       "8845                 sap bpc dba engin comput scienc sql   \n",
       "10443  busi gener market sale manag materi handl tech...   \n",
       "\n",
       "              Role Category  \\\n",
       "25815  Programming & Design   \n",
       "20710                 Voice   \n",
       "7841   Programming & Design   \n",
       "8845   Programming & Design   \n",
       "10443       Corporate Sales   \n",
       "\n",
       "                                         Functional Area  \\\n",
       "25815  IT Software - Application Programming , Mainte...   \n",
       "20710  ITES , BPO , KPO , LPO , Customer Service , Op...   \n",
       "7841   IT Software - Application Programming , Mainte...   \n",
       "8845   IT Software - Application Programming , Mainte...   \n",
       "10443              Sales , Retail , Business Development   \n",
       "\n",
       "                                    Industry                        Job Title  \\\n",
       "25815        IT-Software / Software Services                  softwar develop   \n",
       "20710  Strategy, Management Consulting Firms  associatesenior associ nontechn   \n",
       "7841           Education, Teaching, Training                  softwar develop   \n",
       "8845                   Recruitment, Staffing                  softwar develop   \n",
       "10443      Aviation, Aerospace, Aeronautical          salesbusi develop manag   \n",
       "\n",
       "                                                 new_col  \n",
       "25815  sqljavascripthtmlhibernatejquerybusi processou...  \n",
       "20710  bpo help desk custom servic data analysi custo...  \n",
       "7841   python manag qualiti assur sdlc middlewar conf...  \n",
       "8845   sap bpc dba engin comput scienc sql softwar de...  \n",
       "10443  busi gener market sale manag materi handl tech...  "
      ]
     },
     "execution_count": 22,
     "metadata": {},
     "output_type": "execute_result"
    }
   ],
   "source": [
    "data.head()"
   ]
  },
  {
   "cell_type": "code",
   "execution_count": 23,
   "id": "2538d7ee",
   "metadata": {},
   "outputs": [],
   "source": [
    "from sklearn.feature_extraction.text import TfidfVectorizer\n",
    "from sklearn.metrics.pairwise import cosine_similarity"
   ]
  },
  {
   "cell_type": "code",
   "execution_count": 24,
   "id": "3e164d06",
   "metadata": {},
   "outputs": [],
   "source": [
    "tfif = TfidfVectorizer()\n",
    "matrix = tfif.fit_transform(data[\"new_col\"])\n",
    "similarity = cosine_similarity(matrix)"
   ]
  },
  {
   "cell_type": "code",
   "execution_count": 25,
   "id": "089df4aa",
   "metadata": {},
   "outputs": [
    {
     "data": {
      "text/plain": [
       "array([[1.        , 0.        , 0.03818257, ..., 0.        , 0.04441984,\n",
       "        0.05309743],\n",
       "       [0.        , 1.        , 0.14306917, ..., 0.02358473, 0.03342725,\n",
       "        0.07518372],\n",
       "       [0.03818257, 0.14306917, 1.        , ..., 0.04138074, 0.18953829,\n",
       "        0.20450312],\n",
       "       ...,\n",
       "       [0.        , 0.02358473, 0.04138074, ..., 1.        , 0.        ,\n",
       "        0.        ],\n",
       "       [0.04441984, 0.03342725, 0.18953829, ..., 0.        , 1.        ,\n",
       "        0.16611819],\n",
       "       [0.05309743, 0.07518372, 0.20450312, ..., 0.        , 0.16611819,\n",
       "        1.        ]])"
      ]
     },
     "execution_count": 25,
     "metadata": {},
     "output_type": "execute_result"
    }
   ],
   "source": [
    "similarity"
   ]
  },
  {
   "cell_type": "code",
   "execution_count": 26,
   "id": "54185d4c",
   "metadata": {},
   "outputs": [
    {
     "data": {
      "text/plain": [
       "25815    program design\n",
       "20710              voic\n",
       "7841     program design\n",
       "8845     program design\n",
       "10443       corpor sale\n",
       "Name: Role Category, dtype: object"
      ]
     },
     "execution_count": 26,
     "metadata": {},
     "output_type": "execute_result"
    }
   ],
   "source": [
    "data[\"Role Category\"] = data[\"Role Category\"].astype(str).apply(lambda x:cleaning(x))\n",
    "data[\"Role Category\"][0:5]"
   ]
  },
  {
   "cell_type": "code",
   "execution_count": 27,
   "id": "e8c05a45",
   "metadata": {},
   "outputs": [],
   "source": [
    "data[\"new_col2\"] = data[\"Role Category\"] + \" \" + data[\"Job Title\"]"
   ]
  },
  {
   "cell_type": "code",
   "execution_count": 28,
   "id": "d9a5a87b",
   "metadata": {},
   "outputs": [
    {
     "data": {
      "text/html": [
       "<div>\n",
       "<style scoped>\n",
       "    .dataframe tbody tr th:only-of-type {\n",
       "        vertical-align: middle;\n",
       "    }\n",
       "\n",
       "    .dataframe tbody tr th {\n",
       "        vertical-align: top;\n",
       "    }\n",
       "\n",
       "    .dataframe thead th {\n",
       "        text-align: right;\n",
       "    }\n",
       "</style>\n",
       "<table border=\"1\" class=\"dataframe\">\n",
       "  <thead>\n",
       "    <tr style=\"text-align: right;\">\n",
       "      <th></th>\n",
       "      <th>Unnamed: 0</th>\n",
       "      <th>Job Salary</th>\n",
       "      <th>Job Experience Required</th>\n",
       "      <th>Key Skills</th>\n",
       "      <th>Role Category</th>\n",
       "      <th>Functional Area</th>\n",
       "      <th>Industry</th>\n",
       "      <th>Job Title</th>\n",
       "      <th>new_col</th>\n",
       "      <th>new_col2</th>\n",
       "    </tr>\n",
       "  </thead>\n",
       "  <tbody>\n",
       "    <tr>\n",
       "      <th>25815</th>\n",
       "      <td>28671</td>\n",
       "      <td>Not Disclosed by Recruiter</td>\n",
       "      <td>3 - 5 Years</td>\n",
       "      <td>sqljavascripthtmlhibernatejquerybusi processou...</td>\n",
       "      <td>program design</td>\n",
       "      <td>IT Software - Application Programming , Mainte...</td>\n",
       "      <td>IT-Software / Software Services</td>\n",
       "      <td>softwar develop</td>\n",
       "      <td>sqljavascripthtmlhibernatejquerybusi processou...</td>\n",
       "      <td>program design softwar develop</td>\n",
       "    </tr>\n",
       "    <tr>\n",
       "      <th>20710</th>\n",
       "      <td>22977</td>\n",
       "      <td>Not Disclosed by Recruiter</td>\n",
       "      <td>1 - 2 yrs</td>\n",
       "      <td>bpo help desk custom servic data analysi custo...</td>\n",
       "      <td>voic</td>\n",
       "      <td>ITES , BPO , KPO , LPO , Customer Service , Op...</td>\n",
       "      <td>Strategy, Management Consulting Firms</td>\n",
       "      <td>associatesenior associ nontechn</td>\n",
       "      <td>bpo help desk custom servic data analysi custo...</td>\n",
       "      <td>voic associatesenior associ nontechn</td>\n",
       "    </tr>\n",
       "    <tr>\n",
       "      <th>7841</th>\n",
       "      <td>8671</td>\n",
       "      <td>Not Disclosed by Recruiter</td>\n",
       "      <td>10 - 15 yrs</td>\n",
       "      <td>python manag qualiti assur sdlc middlewar conf...</td>\n",
       "      <td>program design</td>\n",
       "      <td>IT Software - Application Programming , Mainte...</td>\n",
       "      <td>Education, Teaching, Training</td>\n",
       "      <td>softwar develop</td>\n",
       "      <td>python manag qualiti assur sdlc middlewar conf...</td>\n",
       "      <td>program design softwar develop</td>\n",
       "    </tr>\n",
       "    <tr>\n",
       "      <th>8845</th>\n",
       "      <td>9774</td>\n",
       "      <td>Not Disclosed by Recruiter</td>\n",
       "      <td>3 - 7 yrs</td>\n",
       "      <td>sap bpc dba engin comput scienc sql</td>\n",
       "      <td>program design</td>\n",
       "      <td>IT Software - Application Programming , Mainte...</td>\n",
       "      <td>Recruitment, Staffing</td>\n",
       "      <td>softwar develop</td>\n",
       "      <td>sap bpc dba engin comput scienc sql softwar de...</td>\n",
       "      <td>program design softwar develop</td>\n",
       "    </tr>\n",
       "    <tr>\n",
       "      <th>10443</th>\n",
       "      <td>11546</td>\n",
       "      <td>4,00,000 - 9,00,000 PA.</td>\n",
       "      <td>4 - 9 yrs</td>\n",
       "      <td>busi gener market sale manag materi handl tech...</td>\n",
       "      <td>corpor sale</td>\n",
       "      <td>Sales , Retail , Business Development</td>\n",
       "      <td>Aviation, Aerospace, Aeronautical</td>\n",
       "      <td>salesbusi develop manag</td>\n",
       "      <td>busi gener market sale manag materi handl tech...</td>\n",
       "      <td>corpor sale salesbusi develop manag</td>\n",
       "    </tr>\n",
       "  </tbody>\n",
       "</table>\n",
       "</div>"
      ],
      "text/plain": [
       "       Unnamed: 0                    Job Salary Job Experience Required  \\\n",
       "25815       28671    Not Disclosed by Recruiter             3 - 5 Years   \n",
       "20710       22977   Not Disclosed by Recruiter                1 - 2 yrs   \n",
       "7841         8671   Not Disclosed by Recruiter              10 - 15 yrs   \n",
       "8845         9774   Not Disclosed by Recruiter                3 - 7 yrs   \n",
       "10443       11546       4,00,000 - 9,00,000 PA.               4 - 9 yrs   \n",
       "\n",
       "                                              Key Skills   Role Category  \\\n",
       "25815  sqljavascripthtmlhibernatejquerybusi processou...  program design   \n",
       "20710  bpo help desk custom servic data analysi custo...            voic   \n",
       "7841   python manag qualiti assur sdlc middlewar conf...  program design   \n",
       "8845                 sap bpc dba engin comput scienc sql  program design   \n",
       "10443  busi gener market sale manag materi handl tech...     corpor sale   \n",
       "\n",
       "                                         Functional Area  \\\n",
       "25815  IT Software - Application Programming , Mainte...   \n",
       "20710  ITES , BPO , KPO , LPO , Customer Service , Op...   \n",
       "7841   IT Software - Application Programming , Mainte...   \n",
       "8845   IT Software - Application Programming , Mainte...   \n",
       "10443              Sales , Retail , Business Development   \n",
       "\n",
       "                                    Industry                        Job Title  \\\n",
       "25815        IT-Software / Software Services                  softwar develop   \n",
       "20710  Strategy, Management Consulting Firms  associatesenior associ nontechn   \n",
       "7841           Education, Teaching, Training                  softwar develop   \n",
       "8845                   Recruitment, Staffing                  softwar develop   \n",
       "10443      Aviation, Aerospace, Aeronautical          salesbusi develop manag   \n",
       "\n",
       "                                                 new_col  \\\n",
       "25815  sqljavascripthtmlhibernatejquerybusi processou...   \n",
       "20710  bpo help desk custom servic data analysi custo...   \n",
       "7841   python manag qualiti assur sdlc middlewar conf...   \n",
       "8845   sap bpc dba engin comput scienc sql softwar de...   \n",
       "10443  busi gener market sale manag materi handl tech...   \n",
       "\n",
       "                                   new_col2  \n",
       "25815        program design softwar develop  \n",
       "20710  voic associatesenior associ nontechn  \n",
       "7841         program design softwar develop  \n",
       "8845         program design softwar develop  \n",
       "10443   corpor sale salesbusi develop manag  "
      ]
     },
     "execution_count": 28,
     "metadata": {},
     "output_type": "execute_result"
    }
   ],
   "source": [
    "data.head()"
   ]
  },
  {
   "cell_type": "code",
   "execution_count": 29,
   "id": "8957437c",
   "metadata": {},
   "outputs": [],
   "source": [
    "from sklearn.feature_extraction.text import TfidfVectorizer\n",
    "from sklearn.metrics.pairwise import cosine_similarity"
   ]
  },
  {
   "cell_type": "code",
   "execution_count": 30,
   "id": "b1e8c16c",
   "metadata": {},
   "outputs": [],
   "source": [
    "tfif2 = TfidfVectorizer()\n",
    "matrix2 = tfif.fit_transform(data[\"new_col2\"])\n",
    "similarity2 = cosine_similarity(matrix)"
   ]
  },
  {
   "cell_type": "code",
   "execution_count": 31,
   "id": "36d5e5a6",
   "metadata": {},
   "outputs": [
    {
     "data": {
      "text/plain": [
       "array([[1.        , 0.        , 0.03818257, ..., 0.        , 0.04441984,\n",
       "        0.05309743],\n",
       "       [0.        , 1.        , 0.14306917, ..., 0.02358473, 0.03342725,\n",
       "        0.07518372],\n",
       "       [0.03818257, 0.14306917, 1.        , ..., 0.04138074, 0.18953829,\n",
       "        0.20450312],\n",
       "       ...,\n",
       "       [0.        , 0.02358473, 0.04138074, ..., 1.        , 0.        ,\n",
       "        0.        ],\n",
       "       [0.04441984, 0.03342725, 0.18953829, ..., 0.        , 1.        ,\n",
       "        0.16611819],\n",
       "       [0.05309743, 0.07518372, 0.20450312, ..., 0.        , 0.16611819,\n",
       "        1.        ]])"
      ]
     },
     "execution_count": 31,
     "metadata": {},
     "output_type": "execute_result"
    }
   ],
   "source": [
    "similarity2"
   ]
  },
  {
   "cell_type": "code",
   "execution_count": 32,
   "id": "08f8b02a",
   "metadata": {},
   "outputs": [
    {
     "data": {
      "text/plain": [
       "25815       itsoftwar softwar servic\n",
       "20710    strategi manag consult firm\n",
       "7841                educ teach train\n",
       "8845                    recruit staf\n",
       "10443        aviat aerospac aeronaut\n",
       "Name: Industry, dtype: object"
      ]
     },
     "execution_count": 32,
     "metadata": {},
     "output_type": "execute_result"
    }
   ],
   "source": [
    "data[\"Industry\"] = data[\"Industry\"].astype(str).apply(lambda x:cleaning(x))\n",
    "data[\"Industry\"][0:5]"
   ]
  },
  {
   "cell_type": "code",
   "execution_count": 33,
   "id": "b831627e",
   "metadata": {},
   "outputs": [],
   "source": [
    "data[\"new_col3\"] = data[\"Industry\"] + \" \" + data[\"Job Title\"]"
   ]
  },
  {
   "cell_type": "code",
   "execution_count": 34,
   "id": "0620ffa4",
   "metadata": {},
   "outputs": [
    {
     "data": {
      "text/html": [
       "<div>\n",
       "<style scoped>\n",
       "    .dataframe tbody tr th:only-of-type {\n",
       "        vertical-align: middle;\n",
       "    }\n",
       "\n",
       "    .dataframe tbody tr th {\n",
       "        vertical-align: top;\n",
       "    }\n",
       "\n",
       "    .dataframe thead th {\n",
       "        text-align: right;\n",
       "    }\n",
       "</style>\n",
       "<table border=\"1\" class=\"dataframe\">\n",
       "  <thead>\n",
       "    <tr style=\"text-align: right;\">\n",
       "      <th></th>\n",
       "      <th>Unnamed: 0</th>\n",
       "      <th>Job Salary</th>\n",
       "      <th>Job Experience Required</th>\n",
       "      <th>Key Skills</th>\n",
       "      <th>Role Category</th>\n",
       "      <th>Functional Area</th>\n",
       "      <th>Industry</th>\n",
       "      <th>Job Title</th>\n",
       "      <th>new_col</th>\n",
       "      <th>new_col2</th>\n",
       "      <th>new_col3</th>\n",
       "    </tr>\n",
       "  </thead>\n",
       "  <tbody>\n",
       "    <tr>\n",
       "      <th>25815</th>\n",
       "      <td>28671</td>\n",
       "      <td>Not Disclosed by Recruiter</td>\n",
       "      <td>3 - 5 Years</td>\n",
       "      <td>sqljavascripthtmlhibernatejquerybusi processou...</td>\n",
       "      <td>program design</td>\n",
       "      <td>IT Software - Application Programming , Mainte...</td>\n",
       "      <td>itsoftwar softwar servic</td>\n",
       "      <td>softwar develop</td>\n",
       "      <td>sqljavascripthtmlhibernatejquerybusi processou...</td>\n",
       "      <td>program design softwar develop</td>\n",
       "      <td>itsoftwar softwar servic softwar develop</td>\n",
       "    </tr>\n",
       "    <tr>\n",
       "      <th>20710</th>\n",
       "      <td>22977</td>\n",
       "      <td>Not Disclosed by Recruiter</td>\n",
       "      <td>1 - 2 yrs</td>\n",
       "      <td>bpo help desk custom servic data analysi custo...</td>\n",
       "      <td>voic</td>\n",
       "      <td>ITES , BPO , KPO , LPO , Customer Service , Op...</td>\n",
       "      <td>strategi manag consult firm</td>\n",
       "      <td>associatesenior associ nontechn</td>\n",
       "      <td>bpo help desk custom servic data analysi custo...</td>\n",
       "      <td>voic associatesenior associ nontechn</td>\n",
       "      <td>strategi manag consult firm associatesenior as...</td>\n",
       "    </tr>\n",
       "    <tr>\n",
       "      <th>7841</th>\n",
       "      <td>8671</td>\n",
       "      <td>Not Disclosed by Recruiter</td>\n",
       "      <td>10 - 15 yrs</td>\n",
       "      <td>python manag qualiti assur sdlc middlewar conf...</td>\n",
       "      <td>program design</td>\n",
       "      <td>IT Software - Application Programming , Mainte...</td>\n",
       "      <td>educ teach train</td>\n",
       "      <td>softwar develop</td>\n",
       "      <td>python manag qualiti assur sdlc middlewar conf...</td>\n",
       "      <td>program design softwar develop</td>\n",
       "      <td>educ teach train softwar develop</td>\n",
       "    </tr>\n",
       "    <tr>\n",
       "      <th>8845</th>\n",
       "      <td>9774</td>\n",
       "      <td>Not Disclosed by Recruiter</td>\n",
       "      <td>3 - 7 yrs</td>\n",
       "      <td>sap bpc dba engin comput scienc sql</td>\n",
       "      <td>program design</td>\n",
       "      <td>IT Software - Application Programming , Mainte...</td>\n",
       "      <td>recruit staf</td>\n",
       "      <td>softwar develop</td>\n",
       "      <td>sap bpc dba engin comput scienc sql softwar de...</td>\n",
       "      <td>program design softwar develop</td>\n",
       "      <td>recruit staf softwar develop</td>\n",
       "    </tr>\n",
       "    <tr>\n",
       "      <th>10443</th>\n",
       "      <td>11546</td>\n",
       "      <td>4,00,000 - 9,00,000 PA.</td>\n",
       "      <td>4 - 9 yrs</td>\n",
       "      <td>busi gener market sale manag materi handl tech...</td>\n",
       "      <td>corpor sale</td>\n",
       "      <td>Sales , Retail , Business Development</td>\n",
       "      <td>aviat aerospac aeronaut</td>\n",
       "      <td>salesbusi develop manag</td>\n",
       "      <td>busi gener market sale manag materi handl tech...</td>\n",
       "      <td>corpor sale salesbusi develop manag</td>\n",
       "      <td>aviat aerospac aeronaut salesbusi develop manag</td>\n",
       "    </tr>\n",
       "  </tbody>\n",
       "</table>\n",
       "</div>"
      ],
      "text/plain": [
       "       Unnamed: 0                    Job Salary Job Experience Required  \\\n",
       "25815       28671    Not Disclosed by Recruiter             3 - 5 Years   \n",
       "20710       22977   Not Disclosed by Recruiter                1 - 2 yrs   \n",
       "7841         8671   Not Disclosed by Recruiter              10 - 15 yrs   \n",
       "8845         9774   Not Disclosed by Recruiter                3 - 7 yrs   \n",
       "10443       11546       4,00,000 - 9,00,000 PA.               4 - 9 yrs   \n",
       "\n",
       "                                              Key Skills   Role Category  \\\n",
       "25815  sqljavascripthtmlhibernatejquerybusi processou...  program design   \n",
       "20710  bpo help desk custom servic data analysi custo...            voic   \n",
       "7841   python manag qualiti assur sdlc middlewar conf...  program design   \n",
       "8845                 sap bpc dba engin comput scienc sql  program design   \n",
       "10443  busi gener market sale manag materi handl tech...     corpor sale   \n",
       "\n",
       "                                         Functional Area  \\\n",
       "25815  IT Software - Application Programming , Mainte...   \n",
       "20710  ITES , BPO , KPO , LPO , Customer Service , Op...   \n",
       "7841   IT Software - Application Programming , Mainte...   \n",
       "8845   IT Software - Application Programming , Mainte...   \n",
       "10443              Sales , Retail , Business Development   \n",
       "\n",
       "                          Industry                        Job Title  \\\n",
       "25815     itsoftwar softwar servic                  softwar develop   \n",
       "20710  strategi manag consult firm  associatesenior associ nontechn   \n",
       "7841              educ teach train                  softwar develop   \n",
       "8845                  recruit staf                  softwar develop   \n",
       "10443      aviat aerospac aeronaut          salesbusi develop manag   \n",
       "\n",
       "                                                 new_col  \\\n",
       "25815  sqljavascripthtmlhibernatejquerybusi processou...   \n",
       "20710  bpo help desk custom servic data analysi custo...   \n",
       "7841   python manag qualiti assur sdlc middlewar conf...   \n",
       "8845   sap bpc dba engin comput scienc sql softwar de...   \n",
       "10443  busi gener market sale manag materi handl tech...   \n",
       "\n",
       "                                   new_col2  \\\n",
       "25815        program design softwar develop   \n",
       "20710  voic associatesenior associ nontechn   \n",
       "7841         program design softwar develop   \n",
       "8845         program design softwar develop   \n",
       "10443   corpor sale salesbusi develop manag   \n",
       "\n",
       "                                                new_col3  \n",
       "25815           itsoftwar softwar servic softwar develop  \n",
       "20710  strategi manag consult firm associatesenior as...  \n",
       "7841                    educ teach train softwar develop  \n",
       "8845                        recruit staf softwar develop  \n",
       "10443    aviat aerospac aeronaut salesbusi develop manag  "
      ]
     },
     "execution_count": 34,
     "metadata": {},
     "output_type": "execute_result"
    }
   ],
   "source": [
    "data.head()"
   ]
  },
  {
   "cell_type": "code",
   "execution_count": 35,
   "id": "23d1c644",
   "metadata": {},
   "outputs": [],
   "source": [
    "from sklearn.feature_extraction.text import TfidfVectorizer\n",
    "from sklearn.metrics.pairwise import cosine_similarity"
   ]
  },
  {
   "cell_type": "code",
   "execution_count": 36,
   "id": "ed3e962c",
   "metadata": {},
   "outputs": [],
   "source": [
    "tfif3 = TfidfVectorizer()\n",
    "matrix3 = tfif.fit_transform(data[\"new_col3\"])\n",
    "similarity3 = cosine_similarity(matrix)"
   ]
  },
  {
   "cell_type": "code",
   "execution_count": 37,
   "id": "1f3368a6",
   "metadata": {},
   "outputs": [
    {
     "data": {
      "text/plain": [
       "array([[1.        , 0.        , 0.03818257, ..., 0.        , 0.04441984,\n",
       "        0.05309743],\n",
       "       [0.        , 1.        , 0.14306917, ..., 0.02358473, 0.03342725,\n",
       "        0.07518372],\n",
       "       [0.03818257, 0.14306917, 1.        , ..., 0.04138074, 0.18953829,\n",
       "        0.20450312],\n",
       "       ...,\n",
       "       [0.        , 0.02358473, 0.04138074, ..., 1.        , 0.        ,\n",
       "        0.        ],\n",
       "       [0.04441984, 0.03342725, 0.18953829, ..., 0.        , 1.        ,\n",
       "        0.16611819],\n",
       "       [0.05309743, 0.07518372, 0.20450312, ..., 0.        , 0.16611819,\n",
       "        1.        ]])"
      ]
     },
     "execution_count": 37,
     "metadata": {},
     "output_type": "execute_result"
    }
   ],
   "source": [
    "similarity3"
   ]
  },
  {
   "cell_type": "code",
   "execution_count": 38,
   "id": "eec1ce68",
   "metadata": {},
   "outputs": [],
   "source": [
    "def recommendation(industry):\n",
    "    idx = data[data['Industry'] == industry].index[0]\n",
    "    idx = data.index.get_loc(idx)\n",
    "    distances = sorted(list(enumerate(similarity3[idx])),key=lambda x:x[1], reverse=True)[1:20]\n",
    "    \n",
    "    jobs = []\n",
    "    for i in distances:\n",
    "        jobs.append(data.iloc[i[0]].Industry)\n",
    "    return jobs"
   ]
  },
  {
   "cell_type": "code",
   "execution_count": 39,
   "id": "6f5815ed",
   "metadata": {},
   "outputs": [
    {
     "data": {
      "text/plain": [
       "['itsoftwar softwar servic',\n",
       " 'bpo call centr ite',\n",
       " 'itsoftwar softwar servic',\n",
       " 'itsoftwar softwar servic',\n",
       " 'itsoftwar softwar servic',\n",
       " 'bank financi servic broke',\n",
       " 'bank financi servic broke',\n",
       " 'telcom isp',\n",
       " 'medic healthcar hospit',\n",
       " 'itsoftwar softwar servic',\n",
       " 'strategi manag consult firm',\n",
       " 'itsoftwar softwar servic',\n",
       " 'pharma biotech clinic research',\n",
       " 'recruit staf',\n",
       " 'itsoftwar softwar servic',\n",
       " 'itsoftwar softwar servic',\n",
       " 'itsoftwar softwar servic',\n",
       " 'bank financi servic broke',\n",
       " 'itsoftwar softwar servic']"
      ]
     },
     "execution_count": 39,
     "metadata": {},
     "output_type": "execute_result"
    }
   ],
   "source": [
    "recommendation('educ teach train')"
   ]
  },
  {
   "cell_type": "code",
   "execution_count": 40,
   "id": "275f788d",
   "metadata": {},
   "outputs": [],
   "source": [
    "import pickle\n",
    "pickle.dump(data,open('data.pkl3', 'wb'))\n",
    "pickle.dump(similarity3,open('similarity3.pkl','wb'))"
   ]
  },
  {
   "cell_type": "code",
   "execution_count": null,
   "id": "2dd71b62",
   "metadata": {},
   "outputs": [],
   "source": []
  },
  {
   "cell_type": "code",
   "execution_count": null,
   "id": "45b43c2c",
   "metadata": {},
   "outputs": [],
   "source": []
  }
 ],
 "metadata": {
  "kernelspec": {
   "display_name": "Python 3 (ipykernel)",
   "language": "python",
   "name": "python3"
  },
  "language_info": {
   "codemirror_mode": {
    "name": "ipython",
    "version": 3
   },
   "file_extension": ".py",
   "mimetype": "text/x-python",
   "name": "python",
   "nbconvert_exporter": "python",
   "pygments_lexer": "ipython3",
   "version": "3.11.5"
  }
 },
 "nbformat": 4,
 "nbformat_minor": 5
}
